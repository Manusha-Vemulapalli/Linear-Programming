{
 "cells": [
  {
   "attachments": {},
   "cell_type": "markdown",
   "metadata": {},
   "source": [
    "Import necessary libraries for execution of the program."
   ]
  },
  {
   "cell_type": "code",
   "execution_count": 2,
   "metadata": {},
   "outputs": [],
   "source": [
    "import numpy as np\n",
    "from scipy.optimize import linprog"
   ]
  },
  {
   "attachments": {},
   "cell_type": "markdown",
   "metadata": {},
   "source": [
    "Define the primal problem in standard form."
   ]
  },
  {
   "cell_type": "code",
   "execution_count": 3,
   "metadata": {},
   "outputs": [],
   "source": [
    "# minimize c^Tx subject to Ax >= b, x >= 0\n",
    "c = np.array([1, 2, 3])\n",
    "A = np.array([[1, 1, 1], [2, 3, 1], [1, 0, 0], [0, 1, 0], [0, 0, 1]])\n",
    "b = np.array([4, 7, 2, 2, 3])\n"
   ]
  },
  {
   "attachments": {},
   "cell_type": "markdown",
   "metadata": {},
   "source": [
    "Solve the primal problem using 'linprog'"
   ]
  },
  {
   "cell_type": "code",
   "execution_count": 4,
   "metadata": {},
   "outputs": [],
   "source": [
    "res = linprog(c, A_ub=A, b_ub=b, bounds=(0, None))\n"
   ]
  },
  {
   "attachments": {},
   "cell_type": "markdown",
   "metadata": {},
   "source": [
    "Print the optimal primal objective value and the optimal primal solution."
   ]
  },
  {
   "cell_type": "code",
   "execution_count": 5,
   "metadata": {},
   "outputs": [],
   "source": [
    "res = linprog(c, A_ub=A, b_ub=b, bounds=(0, None))\n"
   ]
  },
  {
   "attachments": {},
   "cell_type": "markdown",
   "metadata": {},
   "source": [
    "Print the optimal primal objective value and the optimal primal solution."
   ]
  },
  {
   "cell_type": "code",
   "execution_count": 6,
   "metadata": {},
   "outputs": [
    {
     "name": "stdout",
     "output_type": "stream",
     "text": [
      "Primal Objective Value:  1.4216626793572146e-11\n",
      "Primal Solution:  [6.34201879e-13 3.84337312e-12 1.96522623e-12]\n"
     ]
    }
   ],
   "source": [
    "print(\"Primal Objective Value: \", res.fun)\n",
    "print(\"Primal Solution: \", res.x)\n"
   ]
  },
  {
   "attachments": {},
   "cell_type": "markdown",
   "metadata": {},
   "source": [
    "Define the dual problem in standard form."
   ]
  },
  {
   "cell_type": "code",
   "execution_count": 7,
   "metadata": {},
   "outputs": [],
   "source": [
    "# maximize b^Ty subject to A^Ty <= c, y >= 0\n",
    "b_dual = np.array([4, 7, 2, 2, 3])\n",
    "A_dual = np.array([[-1, -2, -1], [-1, -3, 0], [-1, -1, 0]])\n",
    "c_dual = np.array([-1, -2, -3])"
   ]
  },
  {
   "attachments": {},
   "cell_type": "markdown",
   "metadata": {},
   "source": [
    "Solve the dual problem using 'linprog'"
   ]
  },
  {
   "cell_type": "code",
   "execution_count": 10,
   "metadata": {},
   "outputs": [
    {
     "ename": "ValueError",
     "evalue": "Invalid input for linprog: A_ub must have exactly two dimensions, and the number of columns in A_ub must be equal to the size of c",
     "output_type": "error",
     "traceback": [
      "\u001b[0;31m---------------------------------------------------------------------------\u001b[0m",
      "\u001b[0;31mValueError\u001b[0m                                Traceback (most recent call last)",
      "\u001b[1;32m/Users/manushavemulapalli/Documents/Directed Readings/Duality.ipynb Cell 14\u001b[0m in \u001b[0;36m<cell line: 1>\u001b[0;34m()\u001b[0m\n\u001b[0;32m----> <a href='vscode-notebook-cell:/Users/manushavemulapalli/Documents/Directed%20Readings/Duality.ipynb#X20sZmlsZQ%3D%3D?line=0'>1</a>\u001b[0m res_dual \u001b[39m=\u001b[39m linprog(b_dual, A_ub\u001b[39m=\u001b[39;49m\u001b[39m-\u001b[39;49mA_dual\u001b[39m.\u001b[39;49mT, b_ub\u001b[39m=\u001b[39;49mc_dual, bounds\u001b[39m=\u001b[39;49m(\u001b[39m0\u001b[39;49m, \u001b[39mNone\u001b[39;49;00m))\n",
      "File \u001b[0;32m/Library/Frameworks/Python.framework/Versions/3.10/lib/python3.10/site-packages/scipy/optimize/_linprog.py:607\u001b[0m, in \u001b[0;36mlinprog\u001b[0;34m(c, A_ub, b_ub, A_eq, b_eq, bounds, method, callback, options, x0)\u001b[0m\n\u001b[1;32m    604\u001b[0m     warn(warning_message, OptimizeWarning)\n\u001b[1;32m    606\u001b[0m lp \u001b[39m=\u001b[39m _LPProblem(c, A_ub, b_ub, A_eq, b_eq, bounds, x0)\n\u001b[0;32m--> 607\u001b[0m lp, solver_options \u001b[39m=\u001b[39m _parse_linprog(lp, options, meth)\n\u001b[1;32m    608\u001b[0m tol \u001b[39m=\u001b[39m solver_options\u001b[39m.\u001b[39mget(\u001b[39m'\u001b[39m\u001b[39mtol\u001b[39m\u001b[39m'\u001b[39m, \u001b[39m1e-9\u001b[39m)\n\u001b[1;32m    610\u001b[0m \u001b[39m# Give unmodified problem to HiGHS\u001b[39;00m\n",
      "File \u001b[0;32m/Library/Frameworks/Python.framework/Versions/3.10/lib/python3.10/site-packages/scipy/optimize/_linprog_util.py:1003\u001b[0m, in \u001b[0;36m_parse_linprog\u001b[0;34m(lp, options, meth)\u001b[0m\n\u001b[1;32m   1000\u001b[0m solver_options, A_ub, A_eq \u001b[39m=\u001b[39m _check_sparse_inputs(solver_options, meth,\n\u001b[1;32m   1001\u001b[0m                                                   lp\u001b[39m.\u001b[39mA_ub, lp\u001b[39m.\u001b[39mA_eq)\n\u001b[1;32m   1002\u001b[0m \u001b[39m# Convert lists to numpy arrays, etc...\u001b[39;00m\n\u001b[0;32m-> 1003\u001b[0m lp \u001b[39m=\u001b[39m _clean_inputs(lp\u001b[39m.\u001b[39;49m_replace(A_ub\u001b[39m=\u001b[39;49mA_ub, A_eq\u001b[39m=\u001b[39;49mA_eq))\n\u001b[1;32m   1004\u001b[0m \u001b[39mreturn\u001b[39;00m lp, solver_options\n",
      "File \u001b[0;32m/Library/Frameworks/Python.framework/Versions/3.10/lib/python3.10/site-packages/scipy/optimize/_linprog_util.py:297\u001b[0m, in \u001b[0;36m_clean_inputs\u001b[0;34m(lp)\u001b[0m\n\u001b[1;32m    295\u001b[0m n_ub \u001b[39m=\u001b[39m A_ub\u001b[39m.\u001b[39mshape[\u001b[39m0\u001b[39m]\n\u001b[1;32m    296\u001b[0m \u001b[39mif\u001b[39;00m \u001b[39mlen\u001b[39m(A_ub\u001b[39m.\u001b[39mshape) \u001b[39m!=\u001b[39m \u001b[39m2\u001b[39m \u001b[39mor\u001b[39;00m A_ub\u001b[39m.\u001b[39mshape[\u001b[39m1\u001b[39m] \u001b[39m!=\u001b[39m n_x:\n\u001b[0;32m--> 297\u001b[0m     \u001b[39mraise\u001b[39;00m \u001b[39mValueError\u001b[39;00m(\n\u001b[1;32m    298\u001b[0m         \u001b[39m\"\u001b[39m\u001b[39mInvalid input for linprog: A_ub must have exactly two \u001b[39m\u001b[39m\"\u001b[39m\n\u001b[1;32m    299\u001b[0m         \u001b[39m\"\u001b[39m\u001b[39mdimensions, and the number of columns in A_ub must be \u001b[39m\u001b[39m\"\u001b[39m\n\u001b[1;32m    300\u001b[0m         \u001b[39m\"\u001b[39m\u001b[39mequal to the size of c\u001b[39m\u001b[39m\"\u001b[39m)\n\u001b[1;32m    301\u001b[0m \u001b[39mif\u001b[39;00m (sps\u001b[39m.\u001b[39missparse(A_ub) \u001b[39mand\u001b[39;00m \u001b[39mnot\u001b[39;00m np\u001b[39m.\u001b[39misfinite(A_ub\u001b[39m.\u001b[39mdata)\u001b[39m.\u001b[39mall()\n\u001b[1;32m    302\u001b[0m         \u001b[39mor\u001b[39;00m \u001b[39mnot\u001b[39;00m sps\u001b[39m.\u001b[39missparse(A_ub) \u001b[39mand\u001b[39;00m \u001b[39mnot\u001b[39;00m np\u001b[39m.\u001b[39misfinite(A_ub)\u001b[39m.\u001b[39mall()):\n\u001b[1;32m    303\u001b[0m     \u001b[39mraise\u001b[39;00m \u001b[39mValueError\u001b[39;00m(\n\u001b[1;32m    304\u001b[0m         \u001b[39m\"\u001b[39m\u001b[39mInvalid input for linprog: A_ub must not contain values \u001b[39m\u001b[39m\"\u001b[39m\n\u001b[1;32m    305\u001b[0m         \u001b[39m\"\u001b[39m\u001b[39minf, nan, or None\u001b[39m\u001b[39m\"\u001b[39m)\n",
      "\u001b[0;31mValueError\u001b[0m: Invalid input for linprog: A_ub must have exactly two dimensions, and the number of columns in A_ub must be equal to the size of c"
     ]
    }
   ],
   "source": [
    "res_dual = linprog(b_dual, A_ub=-A_dual.T, b_ub=c_dual, bounds=(0, None))\n"
   ]
  },
  {
   "cell_type": "code",
   "execution_count": 9,
   "metadata": {},
   "outputs": [
    {
     "ename": "NameError",
     "evalue": "name 'res_dual' is not defined",
     "output_type": "error",
     "traceback": [
      "\u001b[0;31m---------------------------------------------------------------------------\u001b[0m",
      "\u001b[0;31mNameError\u001b[0m                                 Traceback (most recent call last)",
      "\u001b[1;32m/Users/manushavemulapalli/Documents/Directed Readings/Duality.ipynb Cell 15\u001b[0m in \u001b[0;36m<cell line: 1>\u001b[0;34m()\u001b[0m\n\u001b[0;32m----> <a href='vscode-notebook-cell:/Users/manushavemulapalli/Documents/Directed%20Readings/Duality.ipynb#X21sZmlsZQ%3D%3D?line=0'>1</a>\u001b[0m \u001b[39mprint\u001b[39m(\u001b[39m\"\u001b[39m\u001b[39mDual Objective Value: \u001b[39m\u001b[39m\"\u001b[39m, res_dual\u001b[39m.\u001b[39mfun)\n\u001b[1;32m      <a href='vscode-notebook-cell:/Users/manushavemulapalli/Documents/Directed%20Readings/Duality.ipynb#X21sZmlsZQ%3D%3D?line=1'>2</a>\u001b[0m \u001b[39mprint\u001b[39m(\u001b[39m\"\u001b[39m\u001b[39mDual Solution: \u001b[39m\u001b[39m\"\u001b[39m, res_dual\u001b[39m.\u001b[39mx)\n",
      "\u001b[0;31mNameError\u001b[0m: name 'res_dual' is not defined"
     ]
    }
   ],
   "source": [
    "print(\"Dual Objective Value: \", res_dual.fun)\n",
    "print(\"Dual Solution: \", res_dual.x)\n"
   ]
  },
  {
   "cell_type": "code",
   "execution_count": 11,
   "metadata": {},
   "outputs": [
    {
     "ename": "NameError",
     "evalue": "name 'res_dual' is not defined",
     "output_type": "error",
     "traceback": [
      "\u001b[0;31m---------------------------------------------------------------------------\u001b[0m",
      "\u001b[0;31mNameError\u001b[0m                                 Traceback (most recent call last)",
      "\u001b[1;32m/Users/manushavemulapalli/Documents/Directed Readings/Duality.ipynb Cell 16\u001b[0m in \u001b[0;36m<cell line: 1>\u001b[0;34m()\u001b[0m\n\u001b[0;32m----> <a href='vscode-notebook-cell:/Users/manushavemulapalli/Documents/Directed%20Readings/Duality.ipynb#X23sZmlsZQ%3D%3D?line=0'>1</a>\u001b[0m \u001b[39mprint\u001b[39m(\u001b[39m\"\u001b[39m\u001b[39mDuality Gap: \u001b[39m\u001b[39m\"\u001b[39m, res\u001b[39m.\u001b[39mfun \u001b[39m-\u001b[39m res_dual\u001b[39m.\u001b[39mfun)\n",
      "\u001b[0;31mNameError\u001b[0m: name 'res_dual' is not defined"
     ]
    }
   ],
   "source": [
    "print(\"Duality Gap: \", res.fun - res_dual.fun)\n"
   ]
  }
 ],
 "metadata": {
  "kernelspec": {
   "display_name": "Python 3",
   "language": "python",
   "name": "python3"
  },
  "language_info": {
   "codemirror_mode": {
    "name": "ipython",
    "version": 3
   },
   "file_extension": ".py",
   "mimetype": "text/x-python",
   "name": "python",
   "nbconvert_exporter": "python",
   "pygments_lexer": "ipython3",
   "version": "3.10.4"
  },
  "orig_nbformat": 4,
  "vscode": {
   "interpreter": {
    "hash": "aee8b7b246df8f9039afb4144a1f6fd8d2ca17a180786b69acc140d282b71a49"
   }
  }
 },
 "nbformat": 4,
 "nbformat_minor": 2
}
