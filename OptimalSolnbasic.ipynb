{
 "cells": [
  {
   "cell_type": "code",
   "execution_count": 9,
   "metadata": {},
   "outputs": [],
   "source": [
    "from pulp import *\n",
    "\n"
   ]
  },
  {
   "cell_type": "code",
   "execution_count": 10,
   "metadata": {},
   "outputs": [],
   "source": [
    "# Lets consider the below scenario of finding out a linear programming model through\n",
    "# python coding\n",
    "#\n",
    "#Maximize 3x + 5y\n",
    "#subject to:\n",
    "#2x + 3y <= 12\n",
    "#x + y >= 3\n",
    "#x >= 0\n",
    "#y >= 0\n",
    "\n"
   ]
  },
  {
   "cell_type": "code",
   "execution_count": 11,
   "metadata": {},
   "outputs": [
    {
     "name": "stdout",
     "output_type": "stream",
     "text": [
      "Welcome to the CBC MILP Solver \n",
      "Version: 2.10.3 \n",
      "Build Date: Dec 15 2019 \n",
      "\n",
      "command line - /Library/Frameworks/Python.framework/Versions/3.10/lib/python3.10/site-packages/pulp/solverdir/cbc/osx/64/cbc /var/folders/ht/pck_svj15fzdps215jr79vbh0000gn/T/d06368c9d7c04ca1b55ee3ab90c12d2d-pulp.mps max timeMode elapsed branch printingOptions all solution /var/folders/ht/pck_svj15fzdps215jr79vbh0000gn/T/d06368c9d7c04ca1b55ee3ab90c12d2d-pulp.sol (default strategy 1)\n",
      "At line 2 NAME          MODEL\n",
      "At line 3 ROWS\n",
      "At line 7 COLUMNS\n",
      "At line 14 RHS\n",
      "At line 17 BOUNDS\n",
      "At line 18 ENDATA\n",
      "Problem MODEL has 2 rows, 2 columns and 4 elements\n",
      "Coin0008I MODEL read with 0 errors\n",
      "Option for timeMode changed from cpu to elapsed\n",
      "Presolve 0 (-2) rows, 0 (-2) columns and 0 (-4) elements\n",
      "Empty problem - 0 rows, 0 columns and 0 elements\n",
      "Optimal - objective value 20\n",
      "After Postsolve, objective 20, infeasibilities - dual 0 (0), primal 0 (0)\n",
      "Optimal objective 20 - 0 iterations time 0.002, Presolve 0.00\n",
      "Option for printingOptions changed from normal to all\n",
      "Total time (CPU seconds):       0.00   (Wallclock seconds):       0.01\n",
      "\n",
      "Status: Optimal\n",
      "Optimal solution:\n",
      "x = 0.0\n",
      "y = 4.0\n",
      "Objective value = 20.0\n"
     ]
    },
    {
     "name": "stderr",
     "output_type": "stream",
     "text": [
      "/Library/Frameworks/Python.framework/Versions/3.10/lib/python3.10/site-packages/pulp/pulp.py:1352: UserWarning: Spaces are not permitted in the name. Converted to '_'\n",
      "  warnings.warn(\"Spaces are not permitted in the name. Converted to '_'\")\n"
     ]
    }
   ],
   "source": [
    "# Implementation of the python code for Linear programming \n",
    "from pulp import *\n",
    "\n",
    "# Create a maximization problem object\n",
    "prob = LpProblem(\"LP Problem\", LpMaximize)\n",
    "\n",
    "# Create decision variables\n",
    "x = LpVariable('x', lowBound=0, cat='Continuous')\n",
    "y = LpVariable('y', lowBound=0, cat='Continuous')\n",
    "\n",
    "# Add objective function\n",
    "prob += 3*x + 5*y\n",
    "\n",
    "# Add constraints\n",
    "prob += 2*x + 3*y <= 12\n",
    "prob += x + y >= 3\n",
    "\n",
    "# Solve the problem\n",
    "status = prob.solve()\n",
    "\n",
    "# Print the status of the solution\n",
    "print(\"Status:\", LpStatus[status])\n",
    "\n",
    "# Print the optimal solution\n",
    "print(\"Optimal solution:\")\n",
    "print(\"x =\", value(x))\n",
    "print(\"y =\", value(y))\n",
    "print(\"Objective value =\", value(prob.objective))\n"
   ]
  },
  {
   "cell_type": "code",
   "execution_count": 12,
   "metadata": {},
   "outputs": [],
   "source": [
    "# To solve a linear programming first we need to install the pulp library \n",
    "# It is a popular optimization tool for linear and integer programming!"
   ]
  },
  {
   "cell_type": "code",
   "execution_count": 14,
   "metadata": {},
   "outputs": [
    {
     "name": "stdout",
     "output_type": "stream",
     "text": [
      "Welcome to the CBC MILP Solver \n",
      "Version: 2.10.3 \n",
      "Build Date: Dec 15 2019 \n",
      "\n",
      "command line - /Library/Frameworks/Python.framework/Versions/3.10/lib/python3.10/site-packages/pulp/solverdir/cbc/osx/64/cbc /var/folders/ht/pck_svj15fzdps215jr79vbh0000gn/T/9a3442c41d5b434b9b612498dd222a17-pulp.mps max timeMode elapsed branch printingOptions all solution /var/folders/ht/pck_svj15fzdps215jr79vbh0000gn/T/9a3442c41d5b434b9b612498dd222a17-pulp.sol (default strategy 1)\n",
      "At line 2 NAME          MODEL\n",
      "At line 3 ROWS\n",
      "At line 8 COLUMNS\n",
      "At line 15 RHS\n",
      "At line 19 BOUNDS\n",
      "At line 20 ENDATA\n",
      "Problem MODEL has 3 rows, 2 columns and 4 elements\n",
      "Coin0008I MODEL read with 0 errors\n",
      "Option for timeMode changed from cpu to elapsed\n",
      "Presolve 1 (-2) rows, 2 (0) columns and 2 (-2) elements\n",
      "0  Obj -0 Dual inf 7.999998 (2)\n",
      "1  Obj 18\n",
      "Optimal - objective value 18\n",
      "After Postsolve, objective 18, infeasibilities - dual 0 (0), primal 0 (0)\n",
      "Optimal objective 18 - 1 iterations time 0.002, Presolve 0.00\n",
      "Option for printingOptions changed from normal to all\n",
      "Total time (CPU seconds):       0.00   (Wallclock seconds):       0.00\n",
      "\n",
      "Status: Optimal\n",
      "x: 1.0\n",
      "y: 3.0\n",
      "Optimal value: 18.0\n"
     ]
    }
   ],
   "source": [
    "from pulp import *\n",
    "\n",
    "# Create a maximization problem\n",
    "prob = LpProblem(\"Example\", LpMaximize)\n",
    "\n",
    "# Define the decision variables\n",
    "x = LpVariable(\"x\", lowBound=0)\n",
    "y = LpVariable(\"y\", lowBound=0)\n",
    "\n",
    "# Add the objective function\n",
    "prob += 3*x + 5*y\n",
    "\n",
    "# Add the constraints\n",
    "prob += x + y <= 4\n",
    "prob += x <= 2\n",
    "prob += y <= 3\n",
    "\n",
    "# Solve the problem\n",
    "status = prob.solve()\n",
    "\n",
    "# Print the status of the solution\n",
    "print(\"Status:\", LpStatus[status])\n",
    "\n",
    "# Print the optimal values of the decision variables\n",
    "print(\"x:\", value(x))\n",
    "print(\"y:\", value(y))\n",
    "\n",
    "# Print the optimal value of the objective function\n",
    "print(\"Optimal value:\", value(prob.objective))\n"
   ]
  },
  {
   "cell_type": "code",
   "execution_count": 16,
   "metadata": {},
   "outputs": [],
   "source": [
    "# In this example, we're trying to maximize the objective function 3x + 5y subject \n",
    "# to the constraints x + y <= 4, x <= 2, and y <= 3. The LpVariable function is used to define the decision variables and their lower bounds, and the LpProblem function is used to define the problem type (in this case, maximization). The LpMaximize and LpMinimize\n",
    "# functions can be used to define the type of optimization problem "
   ]
  },
  {
   "cell_type": "code",
   "execution_count": 17,
   "metadata": {},
   "outputs": [],
   "source": [
    "# We need to install it matplotlib for the graphs"
   ]
  },
  {
   "cell_type": "code",
   "execution_count": 18,
   "metadata": {},
   "outputs": [
    {
     "name": "stdout",
     "output_type": "stream",
     "text": [
      "Requirement already satisfied: matplotlib in /Library/Frameworks/Python.framework/Versions/3.10/lib/python3.10/site-packages (3.5.1)\n",
      "Requirement already satisfied: python-dateutil>=2.7 in /Library/Frameworks/Python.framework/Versions/3.10/lib/python3.10/site-packages (from matplotlib) (2.8.2)\n",
      "Requirement already satisfied: cycler>=0.10 in /Library/Frameworks/Python.framework/Versions/3.10/lib/python3.10/site-packages (from matplotlib) (0.11.0)\n",
      "Requirement already satisfied: pillow>=6.2.0 in /Library/Frameworks/Python.framework/Versions/3.10/lib/python3.10/site-packages (from matplotlib) (9.1.0)\n",
      "Requirement already satisfied: numpy>=1.17 in /Library/Frameworks/Python.framework/Versions/3.10/lib/python3.10/site-packages (from matplotlib) (1.22.3)\n",
      "Requirement already satisfied: pyparsing>=2.2.1 in /Library/Frameworks/Python.framework/Versions/3.10/lib/python3.10/site-packages (from matplotlib) (3.0.7)\n",
      "Requirement already satisfied: packaging>=20.0 in /Library/Frameworks/Python.framework/Versions/3.10/lib/python3.10/site-packages (from matplotlib) (21.3)\n",
      "Requirement already satisfied: fonttools>=4.22.0 in /Library/Frameworks/Python.framework/Versions/3.10/lib/python3.10/site-packages (from matplotlib) (4.31.2)\n",
      "Requirement already satisfied: kiwisolver>=1.0.1 in /Library/Frameworks/Python.framework/Versions/3.10/lib/python3.10/site-packages (from matplotlib) (1.4.2)\n",
      "Requirement already satisfied: six>=1.5 in /Library/Frameworks/Python.framework/Versions/3.10/lib/python3.10/site-packages (from python-dateutil>=2.7->matplotlib) (1.16.0)\n",
      "\n",
      "\u001b[1m[\u001b[0m\u001b[34;49mnotice\u001b[0m\u001b[1;39;49m]\u001b[0m\u001b[39;49m A new release of pip available: \u001b[0m\u001b[31;49m22.3.1\u001b[0m\u001b[39;49m -> \u001b[0m\u001b[32;49m23.0.1\u001b[0m\n",
      "\u001b[1m[\u001b[0m\u001b[34;49mnotice\u001b[0m\u001b[1;39;49m]\u001b[0m\u001b[39;49m To update, run: \u001b[0m\u001b[32;49mpip install --upgrade pip\u001b[0m\n",
      "Note: you may need to restart the kernel to use updated packages.\n"
     ]
    }
   ],
   "source": [
    "pip install matplotlib\n"
   ]
  },
  {
   "cell_type": "code",
   "execution_count": 19,
   "metadata": {},
   "outputs": [],
   "source": [
    "import matplotlib.pyplot as plt\n",
    "import numpy as np\n"
   ]
  },
  {
   "cell_type": "code",
   "execution_count": 20,
   "metadata": {},
   "outputs": [],
   "source": [
    "# Define the objective function\n",
    "def objective_function(x, y):\n",
    "    return 2*x + 3*y\n",
    "\n",
    "# Define the constraints\n",
    "def constraint1(x, y):\n",
    "    return 10 - x - y\n",
    "\n",
    "def constraint2(x, y):\n",
    "    return 16 - 2*x - y\n"
   ]
  },
  {
   "cell_type": "code",
   "execution_count": 21,
   "metadata": {},
   "outputs": [],
   "source": [
    "# Generate some sample data for x and y\n",
    "x = np.linspace(0, 10, 100)\n",
    "y = np.linspace(0, 10, 100)\n",
    "\n",
    "# Create a meshgrid from the x and y values\n",
    "X, Y = np.meshgrid(x, y)\n"
   ]
  },
  {
   "cell_type": "code",
   "execution_count": 22,
   "metadata": {},
   "outputs": [
    {
     "data": {
      "image/png": "[encoded data removed]",
      "text/plain": [
       "<Figure size 432x288 with 1 Axes>"
      ]
     },
     "metadata": {
      "needs_background": "light"
     },
     "output_type": "display_data"
    }
   ],
   "source": [
    "# Plot the objective function\n",
    "plt.contour(X, Y, objective_function(X, Y), levels=20)\n",
    "\n",
    "# Plot the first constraint\n",
    "plt.plot(x, constraint1(x, y), label='x + y <= 10')\n",
    "\n",
    "# Plot the second constraint\n",
    "plt.plot(x, constraint2(x, y), label='2x + y <= 16')\n",
    "\n",
    "# Add labels and a legend to the plot\n",
    "plt.xlabel('x')\n",
    "plt.ylabel('y')\n",
    "plt.legend()\n",
    "\n",
    "# Show the plot\n",
    "plt.show()\n"
   ]
  }
 ],
 "metadata": {
  "kernelspec": {
   "display_name": "Python 3",
   "language": "python",
   "name": "python3"
  },
  "language_info": {
   "codemirror_mode": {
    "name": "ipython",
    "version": 3
   },
   "file_extension": ".py",
   "mimetype": "text/x-python",
   "name": "python",
   "nbconvert_exporter": "python",
   "pygments_lexer": "ipython3",
   "version": "3.10.4"
  },
  "orig_nbformat": 4,
  "vscode": {
   "interpreter": {
    "hash": "aee8b7b246df8f9039afb4144a1f6fd8d2ca17a180786b69acc140d282b71a49"
   }
  }
 },
 "nbformat": 4,
 "nbformat_minor": 2
}
