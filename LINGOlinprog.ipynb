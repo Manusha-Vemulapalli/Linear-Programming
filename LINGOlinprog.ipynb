{
 "cells": [
  {
   "attachments": {},
   "cell_type": "markdown",
   "metadata": {},
   "source": [
    "How to Solve a Linear Programming using LINGO in python!"
   ]
  },
  {
   "cell_type": "code",
   "execution_count": 1,
   "metadata": {},
   "outputs": [
    {
     "ename": "ModuleNotFoundError",
     "evalue": "No module named 'lingo'",
     "output_type": "error",
     "traceback": [
      "\u001b[0;31m---------------------------------------------------------------------------\u001b[0m",
      "\u001b[0;31mModuleNotFoundError\u001b[0m                       Traceback (most recent call last)",
      "\u001b[1;32m/Users/manushavemulapalli/Documents/Directed Readings/LINGOlinprog.ipynb Cell 2\u001b[0m in \u001b[0;36m<cell line: 1>\u001b[0;34m()\u001b[0m\n\u001b[0;32m----> <a href='vscode-notebook-cell:/Users/manushavemulapalli/Documents/Directed%20Readings/LINGOlinprog.ipynb#W2sZmlsZQ%3D%3D?line=0'>1</a>\u001b[0m \u001b[39mfrom\u001b[39;00m \u001b[39mlingo\u001b[39;00m \u001b[39mimport\u001b[39;00m \u001b[39m*\u001b[39m\n\u001b[1;32m      <a href='vscode-notebook-cell:/Users/manushavemulapalli/Documents/Directed%20Readings/LINGOlinprog.ipynb#W2sZmlsZQ%3D%3D?line=2'>3</a>\u001b[0m \u001b[39m# Define the linear programming problem\u001b[39;00m\n\u001b[1;32m      <a href='vscode-notebook-cell:/Users/manushavemulapalli/Documents/Directed%20Readings/LINGOlinprog.ipynb#W2sZmlsZQ%3D%3D?line=3'>4</a>\u001b[0m lp \u001b[39m=\u001b[39m Lingo()\n",
      "\u001b[0;31mModuleNotFoundError\u001b[0m: No module named 'lingo'"
     ]
    }
   ],
   "source": [
    "from lingo import *\n",
    "\n",
    "# Define the linear programming problem\n",
    "lp = Lingo()\n",
    "lp.maximize = False  # set to True to maximize the objective function\n",
    "lp += 3 * x[1] + 2 * x[2] + x[3]  # objective function\n",
    "lp += 1 * x[1] + 1 * x[2] + 1 * x[3] <= 4  # constraint 1\n",
    "lp += 2 * x[1] + 1 * x[2] + 0 * x[3] <= 3  # constraint 2\n",
    "lp += 0 * x[1] + 1 * x[2] + 2 * x[3] <= 3  # constraint 3\n",
    "\n",
    "# Solve the linear programming problem\n",
    "solution = lp.solve()\n",
    "\n",
    "# Print the optimal solution\n",
    "print(\"Optimal solution:\", solution.objective)\n",
    "for i, x_i in enumerate(solution.var_values):\n",
    "    print(f\"x[{i+1}] = {x_i}\")\n"
   ]
  }
 ],
 "metadata": {
  "kernelspec": {
   "display_name": "Python 3",
   "language": "python",
   "name": "python3"
  },
  "language_info": {
   "codemirror_mode": {
    "name": "ipython",
    "version": 3
   },
   "file_extension": ".py",
   "mimetype": "text/x-python",
   "name": "python",
   "nbconvert_exporter": "python",
   "pygments_lexer": "ipython3",
   "version": "3.10.4"
  },
  "orig_nbformat": 4,
  "vscode": {
   "interpreter": {
    "hash": "aee8b7b246df8f9039afb4144a1f6fd8d2ca17a180786b69acc140d282b71a49"
   }
  }
 },
 "nbformat": 4,
 "nbformat_minor": 2
}
