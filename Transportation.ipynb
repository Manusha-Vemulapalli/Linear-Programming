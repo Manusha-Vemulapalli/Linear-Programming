{
 "cells": [
  {
   "attachments": {},
   "cell_type": "markdown",
   "metadata": {},
   "source": [
    "Transportation Problem using Linear Programming in Python "
   ]
  },
  {
   "cell_type": "code",
   "execution_count": 1,
   "metadata": {},
   "outputs": [
    {
     "name": "stderr",
     "output_type": "stream",
     "text": [
      "/Library/Frameworks/Python.framework/Versions/3.10/lib/python3.10/site-packages/pulp/pulp.py:1352: UserWarning: Spaces are not permitted in the name. Converted to '_'\n",
      "  warnings.warn(\"Spaces are not permitted in the name. Converted to '_'\")\n"
     ]
    },
    {
     "ename": "NameError",
     "evalue": "name 'costs' is not defined",
     "output_type": "error",
     "traceback": [
      "\u001b[0;31m---------------------------------------------------------------------------\u001b[0m",
      "\u001b[0;31mNameError\u001b[0m                                 Traceback (most recent call last)",
      "\u001b[1;32m/Users/manushavemulapalli/Documents/Directed Readings/Transportation.ipynb Cell 2\u001b[0m in \u001b[0;36m<cell line: 11>\u001b[0;34m()\u001b[0m\n\u001b[1;32m      <a href='vscode-notebook-cell:/Users/manushavemulapalli/Documents/Directed%20Readings/Transportation.ipynb#W2sZmlsZQ%3D%3D?line=7'>8</a>\u001b[0m routes \u001b[39m=\u001b[39m pulp\u001b[39m.\u001b[39mLpVariable\u001b[39m.\u001b[39mdicts(\u001b[39m\"\u001b[39m\u001b[39mRoute\u001b[39m\u001b[39m\"\u001b[39m, ((factory, warehouse) \u001b[39mfor\u001b[39;00m factory \u001b[39min\u001b[39;00m [\u001b[39m'\u001b[39m\u001b[39mFactory 1\u001b[39m\u001b[39m'\u001b[39m, \u001b[39m'\u001b[39m\u001b[39mFactory 2\u001b[39m\u001b[39m'\u001b[39m, \u001b[39m'\u001b[39m\u001b[39mFactory 3\u001b[39m\u001b[39m'\u001b[39m] \u001b[39mfor\u001b[39;00m warehouse \u001b[39min\u001b[39;00m [\u001b[39m'\u001b[39m\u001b[39mWarehouse 1\u001b[39m\u001b[39m'\u001b[39m, \u001b[39m'\u001b[39m\u001b[39mWarehouse 2\u001b[39m\u001b[39m'\u001b[39m, \u001b[39m'\u001b[39m\u001b[39mWarehouse 3\u001b[39m\u001b[39m'\u001b[39m, \u001b[39m'\u001b[39m\u001b[39mWarehouse 4\u001b[39m\u001b[39m'\u001b[39m]), lowBound\u001b[39m=\u001b[39m\u001b[39m0\u001b[39m, cat\u001b[39m=\u001b[39m\u001b[39m'\u001b[39m\u001b[39mInteger\u001b[39m\u001b[39m'\u001b[39m)\n\u001b[1;32m     <a href='vscode-notebook-cell:/Users/manushavemulapalli/Documents/Directed%20Readings/Transportation.ipynb#W2sZmlsZQ%3D%3D?line=9'>10</a>\u001b[0m \u001b[39m# Define the objective function\u001b[39;00m\n\u001b[0;32m---> <a href='vscode-notebook-cell:/Users/manushavemulapalli/Documents/Directed%20Readings/Transportation.ipynb#W2sZmlsZQ%3D%3D?line=10'>11</a>\u001b[0m problem \u001b[39m+\u001b[39m\u001b[39m=\u001b[39m pulp\u001b[39m.\u001b[39mlpSum([routes[(factory, warehouse)] \u001b[39m*\u001b[39m costs[factory][warehouse] \u001b[39mfor\u001b[39;00m factory \u001b[39min\u001b[39;00m [\u001b[39m'\u001b[39m\u001b[39mFactory 1\u001b[39m\u001b[39m'\u001b[39m, \u001b[39m'\u001b[39m\u001b[39mFactory 2\u001b[39m\u001b[39m'\u001b[39m, \u001b[39m'\u001b[39m\u001b[39mFactory 3\u001b[39m\u001b[39m'\u001b[39m] \u001b[39mfor\u001b[39;00m warehouse \u001b[39min\u001b[39;00m [\u001b[39m'\u001b[39m\u001b[39mWarehouse 1\u001b[39m\u001b[39m'\u001b[39m, \u001b[39m'\u001b[39m\u001b[39mWarehouse 2\u001b[39m\u001b[39m'\u001b[39m, \u001b[39m'\u001b[39m\u001b[39mWarehouse 3\u001b[39m\u001b[39m'\u001b[39m, \u001b[39m'\u001b[39m\u001b[39mWarehouse 4\u001b[39m\u001b[39m'\u001b[39m]]), \u001b[39m\"\u001b[39m\u001b[39mTotal Transportation Cost\u001b[39m\u001b[39m\"\u001b[39m\n\u001b[1;32m     <a href='vscode-notebook-cell:/Users/manushavemulapalli/Documents/Directed%20Readings/Transportation.ipynb#W2sZmlsZQ%3D%3D?line=12'>13</a>\u001b[0m \u001b[39m# Define the constraints\u001b[39;00m\n\u001b[1;32m     <a href='vscode-notebook-cell:/Users/manushavemulapalli/Documents/Directed%20Readings/Transportation.ipynb#W2sZmlsZQ%3D%3D?line=13'>14</a>\u001b[0m \u001b[39mfor\u001b[39;00m factory \u001b[39min\u001b[39;00m [\u001b[39m'\u001b[39m\u001b[39mFactory 1\u001b[39m\u001b[39m'\u001b[39m, \u001b[39m'\u001b[39m\u001b[39mFactory 2\u001b[39m\u001b[39m'\u001b[39m, \u001b[39m'\u001b[39m\u001b[39mFactory 3\u001b[39m\u001b[39m'\u001b[39m]:\n",
      "\u001b[1;32m/Users/manushavemulapalli/Documents/Directed Readings/Transportation.ipynb Cell 2\u001b[0m in \u001b[0;36m<listcomp>\u001b[0;34m(.0)\u001b[0m\n\u001b[1;32m      <a href='vscode-notebook-cell:/Users/manushavemulapalli/Documents/Directed%20Readings/Transportation.ipynb#W2sZmlsZQ%3D%3D?line=7'>8</a>\u001b[0m routes \u001b[39m=\u001b[39m pulp\u001b[39m.\u001b[39mLpVariable\u001b[39m.\u001b[39mdicts(\u001b[39m\"\u001b[39m\u001b[39mRoute\u001b[39m\u001b[39m\"\u001b[39m, ((factory, warehouse) \u001b[39mfor\u001b[39;00m factory \u001b[39min\u001b[39;00m [\u001b[39m'\u001b[39m\u001b[39mFactory 1\u001b[39m\u001b[39m'\u001b[39m, \u001b[39m'\u001b[39m\u001b[39mFactory 2\u001b[39m\u001b[39m'\u001b[39m, \u001b[39m'\u001b[39m\u001b[39mFactory 3\u001b[39m\u001b[39m'\u001b[39m] \u001b[39mfor\u001b[39;00m warehouse \u001b[39min\u001b[39;00m [\u001b[39m'\u001b[39m\u001b[39mWarehouse 1\u001b[39m\u001b[39m'\u001b[39m, \u001b[39m'\u001b[39m\u001b[39mWarehouse 2\u001b[39m\u001b[39m'\u001b[39m, \u001b[39m'\u001b[39m\u001b[39mWarehouse 3\u001b[39m\u001b[39m'\u001b[39m, \u001b[39m'\u001b[39m\u001b[39mWarehouse 4\u001b[39m\u001b[39m'\u001b[39m]), lowBound\u001b[39m=\u001b[39m\u001b[39m0\u001b[39m, cat\u001b[39m=\u001b[39m\u001b[39m'\u001b[39m\u001b[39mInteger\u001b[39m\u001b[39m'\u001b[39m)\n\u001b[1;32m     <a href='vscode-notebook-cell:/Users/manushavemulapalli/Documents/Directed%20Readings/Transportation.ipynb#W2sZmlsZQ%3D%3D?line=9'>10</a>\u001b[0m \u001b[39m# Define the objective function\u001b[39;00m\n\u001b[0;32m---> <a href='vscode-notebook-cell:/Users/manushavemulapalli/Documents/Directed%20Readings/Transportation.ipynb#W2sZmlsZQ%3D%3D?line=10'>11</a>\u001b[0m problem \u001b[39m+\u001b[39m\u001b[39m=\u001b[39m pulp\u001b[39m.\u001b[39mlpSum([routes[(factory, warehouse)] \u001b[39m*\u001b[39m costs[factory][warehouse] \u001b[39mfor\u001b[39;00m factory \u001b[39min\u001b[39;00m [\u001b[39m'\u001b[39m\u001b[39mFactory 1\u001b[39m\u001b[39m'\u001b[39m, \u001b[39m'\u001b[39m\u001b[39mFactory 2\u001b[39m\u001b[39m'\u001b[39m, \u001b[39m'\u001b[39m\u001b[39mFactory 3\u001b[39m\u001b[39m'\u001b[39m] \u001b[39mfor\u001b[39;00m warehouse \u001b[39min\u001b[39;00m [\u001b[39m'\u001b[39m\u001b[39mWarehouse 1\u001b[39m\u001b[39m'\u001b[39m, \u001b[39m'\u001b[39m\u001b[39mWarehouse 2\u001b[39m\u001b[39m'\u001b[39m, \u001b[39m'\u001b[39m\u001b[39mWarehouse 3\u001b[39m\u001b[39m'\u001b[39m, \u001b[39m'\u001b[39m\u001b[39mWarehouse 4\u001b[39m\u001b[39m'\u001b[39m]]), \u001b[39m\"\u001b[39m\u001b[39mTotal Transportation Cost\u001b[39m\u001b[39m\"\u001b[39m\n\u001b[1;32m     <a href='vscode-notebook-cell:/Users/manushavemulapalli/Documents/Directed%20Readings/Transportation.ipynb#W2sZmlsZQ%3D%3D?line=12'>13</a>\u001b[0m \u001b[39m# Define the constraints\u001b[39;00m\n\u001b[1;32m     <a href='vscode-notebook-cell:/Users/manushavemulapalli/Documents/Directed%20Readings/Transportation.ipynb#W2sZmlsZQ%3D%3D?line=13'>14</a>\u001b[0m \u001b[39mfor\u001b[39;00m factory \u001b[39min\u001b[39;00m [\u001b[39m'\u001b[39m\u001b[39mFactory 1\u001b[39m\u001b[39m'\u001b[39m, \u001b[39m'\u001b[39m\u001b[39mFactory 2\u001b[39m\u001b[39m'\u001b[39m, \u001b[39m'\u001b[39m\u001b[39mFactory 3\u001b[39m\u001b[39m'\u001b[39m]:\n",
      "\u001b[0;31mNameError\u001b[0m: name 'costs' is not defined"
     ]
    }
   ],
   "source": [
    "# Import PuLP library\n",
    "import pulp\n",
    "\n",
    "# Define the problem\n",
    "problem = pulp.LpProblem(\"Transportation Problem\", pulp.LpMinimize)\n",
    "\n",
    "# Define the decision variables\n",
    "routes = pulp.LpVariable.dicts(\"Route\", ((factory, warehouse) for factory in ['Factory 1', 'Factory 2', 'Factory 3'] for warehouse in ['Warehouse 1', 'Warehouse 2', 'Warehouse 3', 'Warehouse 4']), lowBound=0, cat='Integer')\n",
    "\n",
    "# Define the objective function\n",
    "problem += pulp.lpSum([routes[(factory, warehouse)] * costs[factory][warehouse] for factory in ['Factory 1', 'Factory 2', 'Factory 3'] for warehouse in ['Warehouse 1', 'Warehouse 2', 'Warehouse 3', 'Warehouse 4']]), \"Total Transportation Cost\"\n",
    "\n",
    "# Define the constraints\n",
    "for factory in ['Factory 1', 'Factory 2', 'Factory 3']:\n",
    "    problem += pulp.lpSum([routes[(factory, warehouse)] for warehouse in ['Warehouse 1', 'Warehouse 2', 'Warehouse 3', 'Warehouse 4']]) <= supplies[factory], \"Supply {}\".format(factory)\n",
    "\n",
    "for warehouse in ['Warehouse 1', 'Warehouse 2', 'Warehouse 3', 'Warehouse 4']:\n",
    "    problem += pulp.lpSum([routes[(factory, warehouse)] for factory in ['Factory 1', 'Factory 2', 'Factory 3']]) >= demands[warehouse], \"Demand {}\".format(warehouse)\n",
    "\n",
    "# Solve the problem\n",
    "problem.solve()\n",
    "\n",
    "# Print the results\n",
    "print(\"Total Transportation Cost = {}\".format(pulp.value(problem.objective)))\n",
    "for factory in ['Factory 1', 'Factory 2', 'Factory 3']:\n",
    "    for warehouse in ['Warehouse 1', 'Warehouse 2', 'Warehouse 3', 'Warehouse 4']:\n",
    "        print(\"Transport {} from {} to {} = {}\".format(routes[(factory, warehouse)].varValue, factory, warehouse, costs[factory][warehouse]))\n",
    "\n"
   ]
  }
 ],
 "metadata": {
  "kernelspec": {
   "display_name": "Python 3",
   "language": "python",
   "name": "python3"
  },
  "language_info": {
   "codemirror_mode": {
    "name": "ipython",
    "version": 3
   },
   "file_extension": ".py",
   "mimetype": "text/x-python",
   "name": "python",
   "nbconvert_exporter": "python",
   "pygments_lexer": "ipython3",
   "version": "3.10.4"
  },
  "orig_nbformat": 4,
  "vscode": {
   "interpreter": {
    "hash": "aee8b7b246df8f9039afb4144a1f6fd8d2ca17a180786b69acc140d282b71a49"
   }
  }
 },
 "nbformat": 4,
 "nbformat_minor": 2
}
