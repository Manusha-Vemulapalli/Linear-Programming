{
 "cells": [
  {
   "attachments": {},
   "cell_type": "markdown",
   "metadata": {},
   "source": [
    "Complementary Slackness Theorem..!"
   ]
  },
  {
   "attachments": {},
   "cell_type": "markdown",
   "metadata": {},
   "source": [
    "In Python, we can also optimize libaries such as 'scipy.optimize' to solve linear programming problems and check the complementary slackness conditions for the optimal solution."
   ]
  },
  {
   "cell_type": "code",
   "execution_count": 1,
   "metadata": {},
   "outputs": [
    {
     "name": "stdout",
     "output_type": "stream",
     "text": [
      "Primal slackness: [-3.99999999 -2.99999998 -2.99999999]\n",
      "Dual slackness: [-4. -3. -3.]\n"
     ]
    }
   ],
   "source": [
    "import numpy as np\n",
    "from scipy.optimize import linprog\n",
    "\n",
    "# Define the primal problem\n",
    "c = np.array([3, 2, 1])  # coefficients of the objective function\n",
    "A = np.array([[1, 1, 1], [2, 1, 0], [0, 1, 2]])  # coefficients of the constraints\n",
    "b = np.array([4, 3, 3])  # right-hand side of the constraints\n",
    "\n",
    "# Solve the primal problem\n",
    "res = linprog(c, A_ub=A, b_ub=b)\n",
    "x = res.x  # optimal primal solution\n",
    "\n",
    "# Define the dual problem\n",
    "A_T = A.T  # transpose of the coefficients matrix\n",
    "b_T = c  # coefficients of the dual objective function\n",
    "c_T = b  # right-hand side of the dual constraints\n",
    "\n",
    "# Solve the dual problem\n",
    "res_T = linprog(b_T, A_ub=A_T, b_ub=c_T)\n",
    "y = res_T.x  # optimal dual solution\n",
    "\n",
    "# Check the complementary slackness conditions\n",
    "slackness_primal = A.dot(x) - b  # slackness of the primal constraints\n",
    "slackness_dual = y.dot(A) - c_T  # slackness of the dual constraints\n",
    "\n",
    "print(\"Primal slackness:\", slackness_primal)\n",
    "print(\"Dual slackness:\", slackness_dual)\n"
   ]
  }
 ],
 "metadata": {
  "kernelspec": {
   "display_name": "Python 3",
   "language": "python",
   "name": "python3"
  },
  "language_info": {
   "codemirror_mode": {
    "name": "ipython",
    "version": 3
   },
   "file_extension": ".py",
   "mimetype": "text/x-python",
   "name": "python",
   "nbconvert_exporter": "python",
   "pygments_lexer": "ipython3",
   "version": "3.10.4"
  },
  "orig_nbformat": 4,
  "vscode": {
   "interpreter": {
    "hash": "aee8b7b246df8f9039afb4144a1f6fd8d2ca17a180786b69acc140d282b71a49"
   }
  }
 },
 "nbformat": 4,
 "nbformat_minor": 2
}
