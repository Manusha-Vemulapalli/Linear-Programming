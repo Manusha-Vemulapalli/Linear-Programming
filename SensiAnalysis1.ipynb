{
 "cells": [
  {
   "attachments": {},
   "cell_type": "markdown",
   "metadata": {},
   "source": [
    "Sensitivity Analysis using Python for Product Mix."
   ]
  },
  {
   "cell_type": "code",
   "execution_count": 1,
   "metadata": {},
   "outputs": [
    {
     "name": "stdout",
     "output_type": "stream",
     "text": [
      "Requirement already satisfied: pulp in /Library/Frameworks/Python.framework/Versions/3.10/lib/python3.10/site-packages (2.7.0)\n",
      "\n",
      "\u001b[1m[\u001b[0m\u001b[34;49mnotice\u001b[0m\u001b[1;39;49m]\u001b[0m\u001b[39;49m A new release of pip available: \u001b[0m\u001b[31;49m22.3.1\u001b[0m\u001b[39;49m -> \u001b[0m\u001b[32;49m23.1.2\u001b[0m\n",
      "\u001b[1m[\u001b[0m\u001b[34;49mnotice\u001b[0m\u001b[1;39;49m]\u001b[0m\u001b[39;49m To update, run: \u001b[0m\u001b[32;49mpip install --upgrade pip\u001b[0m\n",
      "Note: you may need to restart the kernel to use updated packages.\n"
     ]
    }
   ],
   "source": [
    "pip install pulp"
   ]
  },
  {
   "cell_type": "code",
   "execution_count": 2,
   "metadata": {},
   "outputs": [],
   "source": [
    "import pulp\n",
    "\n",
    "# Define the input parameters\n",
    "products = ['Product 1', 'Product 2', 'Product 3']\n",
    "product_costs = {'Product 1': 50, 'Product 2': 70, 'Product 3': 80}\n",
    "product_prices = {'Product 1': 100, 'Product 2': 120, 'Product 3': 150}\n",
    "resource_limits = {'Resource 1': 100, 'Resource 2': 80, 'Resource 3': 70}\n",
    "product_requirements = {'Product 1': {'Resource 1': 1, 'Resource 2': 2, 'Resource 3': 3},\n",
    "                        'Product 2': {'Resource 1': 2, 'Resource 2': 1, 'Resource 3': 2},\n",
    "                        'Product 3': {'Resource 1': 3, 'Resource 2': 2, 'Resource 3': 1}}\n"
   ]
  },
  {
   "cell_type": "code",
   "execution_count": 3,
   "metadata": {},
   "outputs": [
    {
     "name": "stdout",
     "output_type": "stream",
     "text": [
      "Welcome to the CBC MILP Solver \n",
      "Version: 2.10.3 \n",
      "Build Date: Dec 15 2019 \n",
      "\n",
      "command line - /Library/Frameworks/Python.framework/Versions/3.10/lib/python3.10/site-packages/pulp/solverdir/cbc/osx/64/cbc /var/folders/ht/pck_svj15fzdps215jr79vbh0000gn/T/351c7d1937eb4aba991c5e488fbc1431-pulp.mps max timeMode elapsed branch printingOptions all solution /var/folders/ht/pck_svj15fzdps215jr79vbh0000gn/T/351c7d1937eb4aba991c5e488fbc1431-pulp.sol (default strategy 1)\n",
      "At line 2 NAME          MODEL\n",
      "At line 3 ROWS\n",
      "At line 8 COLUMNS\n",
      "At line 21 RHS\n",
      "At line 25 BOUNDS\n",
      "At line 26 ENDATA\n",
      "Problem MODEL has 3 rows, 3 columns and 9 elements\n",
      "Coin0008I MODEL read with 0 errors\n",
      "Option for timeMode changed from cpu to elapsed\n",
      "Presolve 3 (0) rows, 3 (0) columns and 9 (0) elements\n",
      "0  Obj -0 Dual inf 430 (3)\n",
      "0  Obj -0 Dual inf 430 (3)\n",
      "3  Obj 5662.5\n",
      "Optimal - objective value 5662.5\n",
      "Optimal objective 5662.5 - 3 iterations time 0.002\n",
      "Option for printingOptions changed from normal to all\n",
      "Total time (CPU seconds):       0.00   (Wallclock seconds):       0.01\n",
      "\n"
     ]
    },
    {
     "name": "stderr",
     "output_type": "stream",
     "text": [
      "/Library/Frameworks/Python.framework/Versions/3.10/lib/python3.10/site-packages/pulp/pulp.py:1352: UserWarning: Spaces are not permitted in the name. Converted to '_'\n",
      "  warnings.warn(\"Spaces are not permitted in the name. Converted to '_'\")\n"
     ]
    },
    {
     "data": {
      "text/plain": [
       "1"
      ]
     },
     "execution_count": 3,
     "metadata": {},
     "output_type": "execute_result"
    }
   ],
   "source": [
    "# Define the problem as a linear program\n",
    "prob = pulp.LpProblem('Product Mix Problem', pulp.LpMaximize)\n",
    "\n",
    "# Define the decision variables\n",
    "product_vars = pulp.LpVariable.dicts('Product', products, lowBound=0, cat='Continuous')\n",
    "\n",
    "# Define the objective function\n",
    "prob += pulp.lpSum([product_vars[i] * product_prices[i] for i in products])\n",
    "\n",
    "# Define the constraints\n",
    "for j in resource_limits:\n",
    "    prob += pulp.lpSum([product_requirements[i][j] * product_vars[i] for i in products]) <= resource_limits[j]\n",
    "    \n",
    "# Solve the problem\n",
    "prob.solve()\n"
   ]
  },
  {
   "cell_type": "code",
   "execution_count": 4,
   "metadata": {},
   "outputs": [],
   "source": [
    "# Extract the optimal solution\n",
    "optimal_solution = pulp.value(prob.objective)\n",
    "product_quantities = {i: pulp.value(product_vars[i]) for i in products}\n",
    "\n",
    "# Increase the price of Product 1 by 10%\n"
   ]
  },
  {
   "cell_type": "code",
   "execution_count": 5,
   "metadata": {},
   "outputs": [],
   "source": [
    "from pulp import *\n",
    "\n",
    "# Define the problem\n",
    "prob = LpProblem(\"Product Mix Problem\", LpMaximize)\n",
    "\n",
    "# Define decision variables\n",
    "x1 = LpVariable(\"x1\", lowBound=0)\n",
    "x2 = LpVariable(\"x2\", lowBound=0)\n",
    "\n",
    "# Define objective function\n",
    "prob += 10*x1 + 20*x2\n",
    "\n",
    "# Define constraints\n",
    "prob += 2*x1 + x2 <= 100\n",
    "prob += x1 + 2*x2 <= 100\n",
    "prob += x1 <= 60\n",
    "prob += x2 <= 40\n"
   ]
  },
  {
   "cell_type": "code",
   "execution_count": 6,
   "metadata": {},
   "outputs": [
    {
     "name": "stdout",
     "output_type": "stream",
     "text": [
      "Welcome to the CBC MILP Solver \n",
      "Version: 2.10.3 \n",
      "Build Date: Dec 15 2019 \n",
      "\n",
      "command line - /Library/Frameworks/Python.framework/Versions/3.10/lib/python3.10/site-packages/pulp/solverdir/cbc/osx/64/cbc /var/folders/ht/pck_svj15fzdps215jr79vbh0000gn/T/1551d012c8e7496898cc62710cd670af-pulp.mps max timeMode elapsed branch printingOptions all solution /var/folders/ht/pck_svj15fzdps215jr79vbh0000gn/T/1551d012c8e7496898cc62710cd670af-pulp.sol (default strategy 1)\n",
      "At line 2 NAME          MODEL\n",
      "At line 3 ROWS\n",
      "At line 9 COLUMNS\n",
      "At line 18 RHS\n",
      "At line 23 BOUNDS\n",
      "At line 24 ENDATA\n",
      "Problem MODEL has 4 rows, 2 columns and 6 elements\n",
      "Coin0008I MODEL read with 0 errors\n",
      "Option for timeMode changed from cpu to elapsed\n",
      "Presolve 2 (-2) rows, 2 (0) columns and 4 (-2) elements\n",
      "0  Obj -0 Dual inf 29.999998 (2)\n",
      "2  Obj 1000\n",
      "Optimal - objective value 1000\n",
      "After Postsolve, objective 1000, infeasibilities - dual 0 (0), primal 0 (0)\n",
      "Optimal objective 1000 - 2 iterations time 0.002, Presolve 0.00\n",
      "Option for printingOptions changed from normal to all\n",
      "Total time (CPU seconds):       0.00   (Wallclock seconds):       0.01\n",
      "\n",
      "Status: Optimal\n",
      "Optimal Solution:\n",
      "x1 = 33.333333\n",
      "x2 = 33.333333\n",
      "Objective Function Value:  999.9999900000001\n"
     ]
    }
   ],
   "source": [
    "# Solve the problem\n",
    "prob.solve()\n",
    "\n",
    "# Print the solution status\n",
    "print(\"Status:\", LpStatus[prob.status])\n",
    "\n",
    "# Print the optimal solution\n",
    "print(\"Optimal Solution:\")\n",
    "for v in prob.variables():\n",
    "    print(v.name, \"=\", v.varValue)\n",
    "print(\"Objective Function Value: \", value(prob.objective))\n"
   ]
  },
  {
   "cell_type": "code",
   "execution_count": 7,
   "metadata": {},
   "outputs": [
    {
     "name": "stdout",
     "output_type": "stream",
     "text": [
      "Slack and Shadow Prices:\n"
     ]
    },
    {
     "ename": "AttributeError",
     "evalue": "'str' object has no attribute 'slack'",
     "output_type": "error",
     "traceback": [
      "\u001b[0;31m---------------------------------------------------------------------------\u001b[0m",
      "\u001b[0;31mAttributeError\u001b[0m                            Traceback (most recent call last)",
      "\u001b[1;32m/Users/manushavemulapalli/Documents/Directed Readings/SensiAnalysis1.ipynb Cell 8\u001b[0m in \u001b[0;36m<cell line: 3>\u001b[0;34m()\u001b[0m\n\u001b[1;32m      <a href='vscode-notebook-cell:/Users/manushavemulapalli/Documents/Directed%20Readings/SensiAnalysis1.ipynb#X11sZmlsZQ%3D%3D?line=1'>2</a>\u001b[0m \u001b[39mprint\u001b[39m(\u001b[39m\"\u001b[39m\u001b[39mSlack and Shadow Prices:\u001b[39m\u001b[39m\"\u001b[39m)\n\u001b[1;32m      <a href='vscode-notebook-cell:/Users/manushavemulapalli/Documents/Directed%20Readings/SensiAnalysis1.ipynb#X11sZmlsZQ%3D%3D?line=2'>3</a>\u001b[0m \u001b[39mfor\u001b[39;00m c \u001b[39min\u001b[39;00m prob\u001b[39m.\u001b[39mconstraints:\n\u001b[0;32m----> <a href='vscode-notebook-cell:/Users/manushavemulapalli/Documents/Directed%20Readings/SensiAnalysis1.ipynb#X11sZmlsZQ%3D%3D?line=3'>4</a>\u001b[0m     \u001b[39mprint\u001b[39m(c, \u001b[39m\"\u001b[39m\u001b[39mSlack =\u001b[39m\u001b[39m\"\u001b[39m, c\u001b[39m.\u001b[39;49mslack, \u001b[39m\"\u001b[39m\u001b[39mShadow Price =\u001b[39m\u001b[39m\"\u001b[39m, c\u001b[39m.\u001b[39mpi)\n",
      "\u001b[0;31mAttributeError\u001b[0m: 'str' object has no attribute 'slack'"
     ]
    }
   ],
   "source": [
    "# Print the slack and shadow prices\n",
    "print(\"Slack and Shadow Prices:\")\n",
    "for c in prob.constraints:\n",
    "    print(c, \"Slack =\", c.slack, \"Shadow Price =\", c.pi)\n"
   ]
  },
  {
   "cell_type": "code",
   "execution_count": 8,
   "metadata": {},
   "outputs": [
    {
     "name": "stdout",
     "output_type": "stream",
     "text": [
      "Welcome to the CBC MILP Solver \n",
      "Version: 2.10.3 \n",
      "Build Date: Dec 15 2019 \n",
      "\n",
      "command line - /Library/Frameworks/Python.framework/Versions/3.10/lib/python3.10/site-packages/pulp/solverdir/cbc/osx/64/cbc /var/folders/ht/pck_svj15fzdps215jr79vbh0000gn/T/7efdc3564bbb4ec89319fb7cafceee9e-pulp.mps max timeMode elapsed branch printingOptions all solution /var/folders/ht/pck_svj15fzdps215jr79vbh0000gn/T/7efdc3564bbb4ec89319fb7cafceee9e-pulp.sol (default strategy 1)\n",
      "At line 2 NAME          MODEL\n",
      "At line 3 ROWS\n",
      "At line 11 COLUMNS\n",
      "At line 23 RHS\n",
      "At line 30 BOUNDS\n",
      "At line 31 ENDATA\n",
      "Problem MODEL has 6 rows, 2 columns and 9 elements\n",
      "Coin0008I MODEL read with 0 errors\n",
      "Option for timeMode changed from cpu to elapsed\n",
      "Presolve 2 (-4) rows, 2 (0) columns and 4 (-5) elements\n",
      "0  Obj -0 Dual inf 29.999998 (2)\n",
      "2  Obj 1000\n",
      "Optimal - objective value 1000\n",
      "After Postsolve, objective 1000, infeasibilities - dual 0 (0), primal 0 (0)\n",
      "Optimal objective 1000 - 2 iterations time 0.002, Presolve 0.00\n",
      "Option for printingOptions changed from normal to all\n",
      "Total time (CPU seconds):       0.00   (Wallclock seconds):       0.02\n",
      "\n",
      "New Status: Optimal\n",
      "New Optimal Solution:\n",
      "x1 = 32.0\n",
      "x2 = 34.0\n",
      "New Objective Function Value:  1000.0\n"
     ]
    }
   ],
   "source": [
    "# Increase the cost of product 1 to 12\n",
    "prob += 2*x1 + x2 <= 100 - 2\n",
    "prob += x1 <= 60 - 2\n",
    "\n",
    "# Solve the problem\n",
    "prob.solve()\n",
    "\n",
    "# Print the new solution status and optimal solution\n",
    "print(\"New Status:\", LpStatus[prob.status])\n",
    "print(\"New Optimal Solution:\")\n",
    "for v in prob.variables():\n",
    "    print(v.name, \"=\", v.varValue)\n",
    "print(\"New Objective Function Value: \", value(prob.objective))\n"
   ]
  }
 ],
 "metadata": {
  "kernelspec": {
   "display_name": "Python 3",
   "language": "python",
   "name": "python3"
  },
  "language_info": {
   "codemirror_mode": {
    "name": "ipython",
    "version": 3
   },
   "file_extension": ".py",
   "mimetype": "text/x-python",
   "name": "python",
   "nbconvert_exporter": "python",
   "pygments_lexer": "ipython3",
   "version": "3.10.4"
  },
  "orig_nbformat": 4
 },
 "nbformat": 4,
 "nbformat_minor": 2
}
