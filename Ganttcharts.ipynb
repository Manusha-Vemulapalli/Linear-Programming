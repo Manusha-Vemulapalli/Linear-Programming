{
 "cells": [
  {
   "cell_type": "code",
   "execution_count": 3,
   "metadata": {},
   "outputs": [],
   "source": [
    "tasks = {\n",
    "    'Task A': 3,\n",
    "    'Task B': 2,\n",
    "    'Task C': 4,\n",
    "    'Task D': 1,\n",
    "    'Task E': 2,\n",
    "    'Task F': 3,\n",
    "}"
   ]
  },
  {
   "cell_type": "code",
   "execution_count": 4,
   "metadata": {},
   "outputs": [],
   "source": [
    "constraints = [    ('Task A', 'Task C'),    ('Task B', 'Task C'),    ('Task C', 'Task D'),    ('Task C', 'Task E'),    ('Task D', 'Task F'),    ('Task E', 'Task F'),]"
   ]
  },
  {
   "cell_type": "code",
   "execution_count": 5,
   "metadata": {},
   "outputs": [
    {
     "name": "stdout",
     "output_type": "stream",
     "text": [
      "Welcome to the CBC MILP Solver \n",
      "Version: 2.10.3 \n",
      "Build Date: Dec 15 2019 \n",
      "\n",
      "command line - /Library/Frameworks/Python.framework/Versions/3.10/lib/python3.10/site-packages/pulp/solverdir/cbc/osx/64/cbc /var/folders/ht/pck_svj15fzdps215jr79vbh0000gn/T/661f40e2afa54ef0a1c73c44173265c3-pulp.mps timeMode elapsed branch printingOptions all solution /var/folders/ht/pck_svj15fzdps215jr79vbh0000gn/T/661f40e2afa54ef0a1c73c44173265c3-pulp.sol (default strategy 1)\n",
      "At line 2 NAME          MODEL\n",
      "At line 3 ROWS\n",
      "At line 11 COLUMNS\n",
      "At line 37 RHS\n",
      "At line 44 BOUNDS\n",
      "At line 51 ENDATA\n",
      "Problem MODEL has 6 rows, 6 columns and 12 elements\n",
      "Coin0008I MODEL read with 0 errors\n",
      "Option for timeMode changed from cpu to elapsed\n",
      "Continuous objective value is 3 - 0.00 seconds\n",
      "Cgl0004I processed model has 0 rows, 0 columns (0 integer (0 of which binary)) and 0 elements\n",
      "Cbc3007W No integer variables - nothing to do\n",
      "Cuts at root node changed objective from 3 to -1.79769e+308\n",
      "Probing was tried 0 times and created 0 cuts of which 0 were active after adding rounds of cuts (0.000 seconds)\n",
      "Gomory was tried 0 times and created 0 cuts of which 0 were active after adding rounds of cuts (0.000 seconds)\n",
      "Knapsack was tried 0 times and created 0 cuts of which 0 were active after adding rounds of cuts (0.000 seconds)\n",
      "Clique was tried 0 times and created 0 cuts of which 0 were active after adding rounds of cuts (0.000 seconds)\n",
      "MixedIntegerRounding2 was tried 0 times and created 0 cuts of which 0 were active after adding rounds of cuts (0.000 seconds)\n",
      "FlowCover was tried 0 times and created 0 cuts of which 0 were active after adding rounds of cuts (0.000 seconds)\n",
      "TwoMirCuts was tried 0 times and created 0 cuts of which 0 were active after adding rounds of cuts (0.000 seconds)\n",
      "ZeroHalf was tried 0 times and created 0 cuts of which 0 were active after adding rounds of cuts (0.000 seconds)\n",
      "\n",
      "Result - Optimal solution found\n",
      "\n",
      "Objective value:                3.00000000\n",
      "Enumerated nodes:               0\n",
      "Total iterations:               0\n",
      "Time (CPU seconds):             0.00\n",
      "Time (Wallclock seconds):       0.01\n",
      "\n",
      "Option for printingOptions changed from normal to all\n",
      "Total time (CPU seconds):       0.00   (Wallclock seconds):       0.01\n",
      "\n"
     ]
    },
    {
     "data": {
      "text/plain": [
       "1"
      ]
     },
     "execution_count": 5,
     "metadata": {},
     "output_type": "execute_result"
    }
   ],
   "source": [
    "import pulp\n",
    "\n",
    "# Create the optimization problem\n",
    "problem = pulp.LpProblem(\"Gantt Chart\", pulp.LpMinimize)\n",
    "\n",
    "# Create a variable for each task\n",
    "start_times = pulp.LpVariable.dicts(\"Start Time\", tasks.keys(), lowBound=0, cat=\"Integer\")\n",
    "\n",
    "# Add constraints to ensure dependencies and resource availability\n",
    "for constraint in constraints:\n",
    "    task1, task2 = constraint\n",
    "    problem += start_times[task1] + tasks[task1] <= start_times[task2]\n",
    "\n",
    "# Add the objective function to minimize the completion time\n",
    "problem += start_times[max(tasks, key=tasks.get)] \n",
    "\n",
    "# Solve the optimization problem\n",
    "problem.solve()\n"
   ]
  },
  {
   "cell_type": "code",
   "execution_count": null,
   "metadata": {},
   "outputs": [],
   "source": [
    "import matplotlib.pyplot as plt\n",
    "\n",
    "# Generate the Gantt chart\n",
    "fig, ax = plt.subplots()\n",
    "\n",
    "for task, start_time in start_times.items():\n",
    "    ax.barh(task, tasks[task], left=pulp.value(start_time), height=0.5)\n",
    "\n",
    "ax.set_xlabel('Time')\n",
    "ax.set_ylabel('Task')\n",
    "ax.set_yticks(start_times.keys())\n",
    "ax.invert_yaxis()\n",
    "ax.set\n"
   ]
  }
 ],
 "metadata": {
  "kernelspec": {
   "display_name": "Python 3",
   "language": "python",
   "name": "python3"
  },
  "language_info": {
   "codemirror_mode": {
    "name": "ipython",
    "version": 3
   },
   "file_extension": ".py",
   "mimetype": "text/x-python",
   "name": "python",
   "nbconvert_exporter": "python",
   "pygments_lexer": "ipython3",
   "version": "3.10.4"
  },
  "orig_nbformat": 4,
  "vscode": {
   "interpreter": {
    "hash": "aee8b7b246df8f9039afb4144a1f6fd8d2ca17a180786b69acc140d282b71a49"
   }
  }
 },
 "nbformat": 4,
 "nbformat_minor": 2
}
