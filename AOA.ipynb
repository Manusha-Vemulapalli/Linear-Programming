{
 "cells": [
  {
   "attachments": {},
   "cell_type": "markdown",
   "metadata": {},
   "source": [
    "Activity on Arc Model Implementation using python"
   ]
  },
  {
   "cell_type": "code",
   "execution_count": 1,
   "metadata": {},
   "outputs": [
    {
     "name": "stdout",
     "output_type": "stream",
     "text": [
      "Welcome to the CBC MILP Solver \n",
      "Version: 2.10.3 \n",
      "Build Date: Dec 15 2019 \n",
      "\n",
      "command line - /Library/Frameworks/Python.framework/Versions/3.10/lib/python3.10/site-packages/pulp/solverdir/cbc/osx/64/cbc /var/folders/ht/pck_svj15fzdps215jr79vbh0000gn/T/ee22a9b12faf4bad829169d9812970d5-pulp.mps timeMode elapsed branch printingOptions all solution /var/folders/ht/pck_svj15fzdps215jr79vbh0000gn/T/ee22a9b12faf4bad829169d9812970d5-pulp.sol (default strategy 1)\n",
      "At line 2 NAME          MODEL\n",
      "At line 3 ROWS\n",
      "At line 13 COLUMNS\n",
      "At line 34 RHS\n",
      "At line 43 BOUNDS\n",
      "At line 44 ENDATA\n",
      "Problem MODEL has 8 rows, 5 columns and 15 elements\n",
      "Coin0008I MODEL read with 0 errors\n",
      "Option for timeMode changed from cpu to elapsed\n",
      "Presolve determined that the problem was infeasible with tolerance of 1e-08\n",
      "Analysis indicates model infeasible or unbounded\n",
      "0  Obj 0 Primal inf 57.999999 (5)\n",
      "5  Obj 565 Primal inf 20 (1)\n",
      "Primal infeasible - objective value 565\n",
      "PrimalInfeasible objective 565 - 5 iterations time 0.002\n",
      "\n",
      "Result - Linear relaxation infeasible\n",
      "\n",
      "Enumerated nodes:           0\n",
      "Total iterations:           0\n",
      "Time (CPU seconds):         0.00\n",
      "Time (Wallclock Seconds):   0.01\n",
      "\n",
      "Option for printingOptions changed from normal to all\n",
      "Total time (CPU seconds):       0.00   (Wallclock seconds):       0.01\n",
      "\n",
      "x1 =  10.0\n",
      "x2 =  20.0\n",
      "x3 =  15.0\n",
      "x4 =  30.0\n",
      "x5 =  25.0\n",
      "Objective value =  565.0\n"
     ]
    },
    {
     "name": "stderr",
     "output_type": "stream",
     "text": [
      "/Library/Frameworks/Python.framework/Versions/3.10/lib/python3.10/site-packages/pulp/pulp.py:1352: UserWarning: Spaces are not permitted in the name. Converted to '_'\n",
      "  warnings.warn(\"Spaces are not permitted in the name. Converted to '_'\")\n"
     ]
    }
   ],
   "source": [
    "import pulp\n",
    "\n",
    "# Create a PuLP model\n",
    "model = pulp.LpProblem(\"Activity on Arc\", pulp.LpMinimize)\n",
    "\n",
    "# Define decision variables\n",
    "x1 = pulp.LpVariable(\"x1\", lowBound=0)\n",
    "x2 = pulp.LpVariable(\"x2\", lowBound=0)\n",
    "x3 = pulp.LpVariable(\"x3\", lowBound=0)\n",
    "x4 = pulp.LpVariable(\"x4\", lowBound=0)\n",
    "x5 = pulp.LpVariable(\"x5\", lowBound=0)\n",
    "\n",
    "# Define constraints\n",
    "model += x1 >= 10\n",
    "model += x2 >= 20\n",
    "model += x3 >= 15\n",
    "model += x4 >= 5\n",
    "model += x5 >= 8\n",
    "model += x1 + x2 == x4\n",
    "model += x1 + x3 == x5\n",
    "model += x2 + x3 >= x4 + x5\n",
    "\n",
    "# Define objective function\n",
    "model += 4*x1 + 3*x2 + 5*x3 + 8*x4 + 6*x5\n",
    "\n",
    "# Solve the problem\n",
    "status = model.solve()\n",
    "\n",
    "# Print the optimal solution and objective value\n",
    "print(\"x1 = \", pulp.value(x1))\n",
    "print(\"x2 = \", pulp.value(x2))\n",
    "print(\"x3 = \", pulp.value(x3))\n",
    "print(\"x4 = \", pulp.value(x4))\n",
    "print(\"x5 = \", pulp.value(x5))\n",
    "print(\"Objective value = \", pulp.value(model.objective))\n"
   ]
  }
 ],
 "metadata": {
  "kernelspec": {
   "display_name": "Python 3",
   "language": "python",
   "name": "python3"
  },
  "language_info": {
   "codemirror_mode": {
    "name": "ipython",
    "version": 3
   },
   "file_extension": ".py",
   "mimetype": "text/x-python",
   "name": "python",
   "nbconvert_exporter": "python",
   "pygments_lexer": "ipython3",
   "version": "3.10.4"
  },
  "orig_nbformat": 4
 },
 "nbformat": 4,
 "nbformat_minor": 2
}
