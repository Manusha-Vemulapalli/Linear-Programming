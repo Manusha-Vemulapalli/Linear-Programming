{
 "cells": [
  {
   "attachments": {},
   "cell_type": "markdown",
   "metadata": {},
   "source": [
    "Assignment Problem in Linear Programming in Python "
   ]
  },
  {
   "cell_type": "code",
   "execution_count": 1,
   "metadata": {},
   "outputs": [
    {
     "name": "stdout",
     "output_type": "stream",
     "text": [
      "Assignment: [(0, 0), (1, 2), (2, 1)]\n"
     ]
    },
    {
     "ename": "TypeError",
     "evalue": "list indices must be integers or slices, not tuple",
     "output_type": "error",
     "traceback": [
      "\u001b[0;31m---------------------------------------------------------------------------\u001b[0m",
      "\u001b[0;31mTypeError\u001b[0m                                 Traceback (most recent call last)",
      "\u001b[1;32m/Users/manushavemulapalli/Documents/Directed Readings/AssignmentProb.ipynb Cell 2\u001b[0m in \u001b[0;36m<cell line: 13>\u001b[0;34m()\u001b[0m\n\u001b[1;32m     <a href='vscode-notebook-cell:/Users/manushavemulapalli/Documents/Directed%20Readings/AssignmentProb.ipynb#W2sZmlsZQ%3D%3D?line=10'>11</a>\u001b[0m \u001b[39m# Print the solution\u001b[39;00m\n\u001b[1;32m     <a href='vscode-notebook-cell:/Users/manushavemulapalli/Documents/Directed%20Readings/AssignmentProb.ipynb#W2sZmlsZQ%3D%3D?line=11'>12</a>\u001b[0m \u001b[39mprint\u001b[39m(\u001b[39m\"\u001b[39m\u001b[39mAssignment:\u001b[39m\u001b[39m\"\u001b[39m, \u001b[39mlist\u001b[39m(\u001b[39mzip\u001b[39m(row_ind, col_ind)))\n\u001b[0;32m---> <a href='vscode-notebook-cell:/Users/manushavemulapalli/Documents/Directed%20Readings/AssignmentProb.ipynb#W2sZmlsZQ%3D%3D?line=12'>13</a>\u001b[0m \u001b[39mprint\u001b[39m(\u001b[39m\"\u001b[39m\u001b[39mTotal cost:\u001b[39m\u001b[39m\"\u001b[39m, cost[row_ind, col_ind]\u001b[39m.\u001b[39msum())\n",
      "\u001b[0;31mTypeError\u001b[0m: list indices must be integers or slices, not tuple"
     ]
    }
   ],
   "source": [
    "from scipy.optimize import linear_sum_assignment\n",
    "\n",
    "# Define the cost matrix\n",
    "cost = [[4, 6, 8],\n",
    "        [7, 9, 5],\n",
    "        [4, 3, 7]]\n",
    "\n",
    "# Solve the Assignment Problem\n",
    "row_ind, col_ind = linear_sum_assignment(cost)\n",
    "\n",
    "# Print the solution\n",
    "print(\"Assignment:\", list(zip(row_ind, col_ind)))\n",
    "print(\"Total cost:\", cost[row_ind, col_ind].sum())\n"
   ]
  }
 ],
 "metadata": {
  "kernelspec": {
   "display_name": "Python 3",
   "language": "python",
   "name": "python3"
  },
  "language_info": {
   "codemirror_mode": {
    "name": "ipython",
    "version": 3
   },
   "file_extension": ".py",
   "mimetype": "text/x-python",
   "name": "python",
   "nbconvert_exporter": "python",
   "pygments_lexer": "ipython3",
   "version": "3.10.4"
  },
  "orig_nbformat": 4,
  "vscode": {
   "interpreter": {
    "hash": "aee8b7b246df8f9039afb4144a1f6fd8d2ca17a180786b69acc140d282b71a49"
   }
  }
 },
 "nbformat": 4,
 "nbformat_minor": 2
}
