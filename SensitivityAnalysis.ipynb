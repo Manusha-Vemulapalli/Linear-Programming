{
 "cells": [
  {
   "attachments": {},
   "cell_type": "markdown",
   "metadata": {},
   "source": [
    "Sensitivity Analysis Implementation in python"
   ]
  },
  {
   "cell_type": "code",
   "execution_count": 1,
   "metadata": {},
   "outputs": [
    {
     "name": "stdout",
     "output_type": "stream",
     "text": [
      "Welcome to the CBC MILP Solver \n",
      "Version: 2.10.3 \n",
      "Build Date: Dec 15 2019 \n",
      "\n",
      "command line - /Library/Frameworks/Python.framework/Versions/3.10/lib/python3.10/site-packages/pulp/solverdir/cbc/osx/64/cbc /var/folders/ht/pck_svj15fzdps215jr79vbh0000gn/T/803fd2d5edd44f059ae1d4a682ff8a19-pulp.mps max timeMode elapsed branch printingOptions all solution /var/folders/ht/pck_svj15fzdps215jr79vbh0000gn/T/803fd2d5edd44f059ae1d4a682ff8a19-pulp.sol (default strategy 1)\n",
      "At line 2 NAME          MODEL\n",
      "At line 3 ROWS\n",
      "At line 8 COLUMNS\n",
      "At line 17 RHS\n",
      "At line 21 BOUNDS\n",
      "At line 22 ENDATA\n",
      "Problem MODEL has 3 rows, 2 columns and 6 elements\n",
      "Coin0008I MODEL read with 0 errors\n",
      "Option for timeMode changed from cpu to elapsed\n",
      "Presolve 3 (0) rows, 2 (0) columns and 6 (0) elements\n",
      "0  Obj -0 Dual inf 3.9999998 (2)\n",
      "0  Obj -0 Dual inf 3.9999998 (2)\n",
      "1  Obj 7.5\n",
      "Optimal - objective value 7.5\n",
      "Optimal objective 7.5 - 1 iterations time 0.002\n",
      "Option for printingOptions changed from normal to all\n",
      "Total time (CPU seconds):       0.00   (Wallclock seconds):       0.02\n",
      "\n",
      "Optimal solution: 7.5\n",
      "Status: Optimal\n"
     ]
    },
    {
     "ename": "AttributeError",
     "evalue": "'LpProblem' object has no attribute 'solverModel'",
     "output_type": "error",
     "traceback": [
      "\u001b[0;31m---------------------------------------------------------------------------\u001b[0m",
      "\u001b[0;31mAttributeError\u001b[0m                            Traceback (most recent call last)",
      "\u001b[1;32m/Users/manushavemulapalli/Documents/Directed Readings/SensitivityAnalysis.ipynb Cell 2\u001b[0m in \u001b[0;36m<cell line: 19>\u001b[0;34m()\u001b[0m\n\u001b[1;32m     <a href='vscode-notebook-cell:/Users/manushavemulapalli/Documents/Directed%20Readings/SensitivityAnalysis.ipynb#W2sZmlsZQ%3D%3D?line=15'>16</a>\u001b[0m \u001b[39mprint\u001b[39m(\u001b[39m\"\u001b[39m\u001b[39mStatus:\u001b[39m\u001b[39m\"\u001b[39m, pulp\u001b[39m.\u001b[39mLpStatus[prob\u001b[39m.\u001b[39mstatus])\n\u001b[1;32m     <a href='vscode-notebook-cell:/Users/manushavemulapalli/Documents/Directed%20Readings/SensitivityAnalysis.ipynb#W2sZmlsZQ%3D%3D?line=17'>18</a>\u001b[0m \u001b[39m# Perform sensitivity analysis\u001b[39;00m\n\u001b[0;32m---> <a href='vscode-notebook-cell:/Users/manushavemulapalli/Documents/Directed%20Readings/SensitivityAnalysis.ipynb#W2sZmlsZQ%3D%3D?line=18'>19</a>\u001b[0m model \u001b[39m=\u001b[39m prob\u001b[39m.\u001b[39;49msolverModel\n\u001b[1;32m     <a href='vscode-notebook-cell:/Users/manushavemulapalli/Documents/Directed%20Readings/SensitivityAnalysis.ipynb#W2sZmlsZQ%3D%3D?line=19'>20</a>\u001b[0m \u001b[39mfor\u001b[39;00m name, c \u001b[39min\u001b[39;00m model\u001b[39m.\u001b[39mconstraints\u001b[39m.\u001b[39mitems():\n\u001b[1;32m     <a href='vscode-notebook-cell:/Users/manushavemulapalli/Documents/Directed%20Readings/SensitivityAnalysis.ipynb#W2sZmlsZQ%3D%3D?line=20'>21</a>\u001b[0m     dual \u001b[39m=\u001b[39m c\u001b[39m.\u001b[39mpi\n",
      "\u001b[0;31mAttributeError\u001b[0m: 'LpProblem' object has no attribute 'solverModel'"
     ]
    }
   ],
   "source": [
    "import pulp\n",
    "\n",
    "# Define the problem\n",
    "prob = pulp.LpProblem(\"Example\", pulp.LpMaximize)\n",
    "x = pulp.LpVariable(\"x\", lowBound=0)\n",
    "y = pulp.LpVariable(\"y\", lowBound=0)\n",
    "prob += 2*x + y <= 4\n",
    "prob += x + 2*y <= 5\n",
    "prob += x + y <= 3\n",
    "prob += x + 3*y\n",
    "# Solve the problem\n",
    "prob.solve()\n",
    "\n",
    "# Print the optimal solution and status\n",
    "print(\"Optimal solution:\", pulp.value(prob.objective))\n",
    "print(\"Status:\", pulp.LpStatus[prob.status])\n",
    "\n",
    "# Perform sensitivity analysis\n",
    "model = prob.solverModel\n",
    "for name, c in model.constraints.items():\n",
    "    dual = c.pi\n",
    "    print(f\"{name}: dual={dual}\")\n",
    "for name, v in model.variables.items():\n",
    "    reduced_cost = v.dj\n",
    "    print(f\"{name}: reduced_cost={reduced_cost}\")\n"
   ]
  }
 ],
 "metadata": {
  "kernelspec": {
   "display_name": "Python 3",
   "language": "python",
   "name": "python3"
  },
  "language_info": {
   "codemirror_mode": {
    "name": "ipython",
    "version": 3
   },
   "file_extension": ".py",
   "mimetype": "text/x-python",
   "name": "python",
   "nbconvert_exporter": "python",
   "pygments_lexer": "ipython3",
   "version": "3.10.4"
  },
  "orig_nbformat": 4
 },
 "nbformat": 4,
 "nbformat_minor": 2
}
