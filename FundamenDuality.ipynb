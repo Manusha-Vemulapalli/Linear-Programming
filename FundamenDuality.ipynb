{
 "cells": [
  {
   "attachments": {},
   "cell_type": "markdown",
   "metadata": {},
   "source": [
    "Fundamental Duality Theorem...!"
   ]
  },
  {
   "cell_type": "code",
   "execution_count": 1,
   "metadata": {},
   "outputs": [
    {
     "name": "stdout",
     "output_type": "stream",
     "text": [
      "Primal problem:       con: array([], dtype=float64)\n",
      "     fun: -7.200000000000001\n",
      " message: 'Optimization terminated successfully.'\n",
      "     nit: 2\n",
      "   slack: array([ 0.0000000e+00, -8.8817842e-16])\n",
      "  status: 0\n",
      " success: True\n",
      "       x: array([1.6, 1.2])\n",
      "Dual problem:       con: array([0., 0.])\n",
      "     fun: 7.2\n",
      " message: 'Optimization terminated successfully.'\n",
      "     nit: 2\n",
      "   slack: array([], dtype=float64)\n",
      "  status: 0\n",
      " success: True\n",
      "       x: array([0.6, 0.8])\n",
      "Duality gap:  -14.400000000000002\n"
     ]
    }
   ],
   "source": [
    "import numpy as np\n",
    "from scipy.optimize import linprog\n",
    "\n",
    "# Define the objective function and constraints\n",
    "c = np.array([-3, -2])\n",
    "A = np.array([[1, 2], [3, 1]])\n",
    "b = np.array([4, 6])\n",
    "x0_bounds = (0, None)\n",
    "x1_bounds = (0, None)\n",
    "\n",
    "# Solve the primal problem\n",
    "res = linprog(c=c, A_ub=A, b_ub=b, bounds=[x0_bounds, x1_bounds], method='simplex')\n",
    "print('Primal problem: ', res)\n",
    "\n",
    "# Solve the dual problem\n",
    "c_d = np.array([4, 6])\n",
    "A_d = np.array([[-1, -3], [-2, -1]])\n",
    "b_d = np.array([-3, -2])\n",
    "res_d = linprog(c=c_d, A_eq=A_d, b_eq=b_d, method='simplex')\n",
    "print('Dual problem: ', res_d)\n",
    "\n",
    "# Check the duality gap\n",
    "print('Duality gap: ', res.fun - res_d.fun)\n"
   ]
  }
 ],
 "metadata": {
  "kernelspec": {
   "display_name": "Python 3",
   "language": "python",
   "name": "python3"
  },
  "language_info": {
   "codemirror_mode": {
    "name": "ipython",
    "version": 3
   },
   "file_extension": ".py",
   "mimetype": "text/x-python",
   "name": "python",
   "nbconvert_exporter": "python",
   "pygments_lexer": "ipython3",
   "version": "3.10.4"
  },
  "orig_nbformat": 4,
  "vscode": {
   "interpreter": {
    "hash": "aee8b7b246df8f9039afb4144a1f6fd8d2ca17a180786b69acc140d282b71a49"
   }
  }
 },
 "nbformat": 4,
 "nbformat_minor": 2
}
