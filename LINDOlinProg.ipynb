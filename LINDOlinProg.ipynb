{
 "cells": [
  {
   "attachments": {},
   "cell_type": "markdown",
   "metadata": {},
   "source": [
    "How to Solve Linear Programming Problem using LINDO in python."
   ]
  },
  {
   "cell_type": "code",
   "execution_count": 1,
   "metadata": {},
   "outputs": [
    {
     "ename": "ModuleNotFoundError",
     "evalue": "No module named 'pylindo'",
     "output_type": "error",
     "traceback": [
      "\u001b[0;31m---------------------------------------------------------------------------\u001b[0m",
      "\u001b[0;31mModuleNotFoundError\u001b[0m                       Traceback (most recent call last)",
      "\u001b[1;32m/Users/manushavemulapalli/Documents/Directed Readings/LINDOlinProg.ipynb Cell 2\u001b[0m in \u001b[0;36m<cell line: 1>\u001b[0;34m()\u001b[0m\n\u001b[0;32m----> <a href='vscode-notebook-cell:/Users/manushavemulapalli/Documents/Directed%20Readings/LINDOlinProg.ipynb#W2sZmlsZQ%3D%3D?line=0'>1</a>\u001b[0m \u001b[39mfrom\u001b[39;00m \u001b[39mpylindo\u001b[39;00m \u001b[39mimport\u001b[39;00m \u001b[39m*\u001b[39m\n\u001b[1;32m      <a href='vscode-notebook-cell:/Users/manushavemulapalli/Documents/Directed%20Readings/LINDOlinProg.ipynb#W2sZmlsZQ%3D%3D?line=2'>3</a>\u001b[0m \u001b[39m# Define the linear programming problem\u001b[39;00m\n\u001b[1;32m      <a href='vscode-notebook-cell:/Users/manushavemulapalli/Documents/Directed%20Readings/LINDOlinProg.ipynb#W2sZmlsZQ%3D%3D?line=3'>4</a>\u001b[0m lindo \u001b[39m=\u001b[39m lindo_api\u001b[39m.\u001b[39mLindo()\n",
      "\u001b[0;31mModuleNotFoundError\u001b[0m: No module named 'pylindo'"
     ]
    }
   ],
   "source": [
    "from pylindo import *\n",
    "\n",
    "# Define the linear programming problem\n",
    "lindo = lindo_api.Lindo()\n",
    "lindo.set_model_name(\"LP Example\")\n",
    "lindo.set_obj_dir(lindo_api.LINDO_OBJDIR_MIN)\n",
    "\n",
    "x = lindo.add_var(\"x\", low_bound=0.0)  # decision variables\n",
    "y = lindo.add_var(\"y\", low_bound=0.0)\n",
    "z = lindo.add_var(\"z\", low_bound=0.0)\n",
    "\n",
    "lindo.set_c(x, 3.0)  # objective function coefficients\n",
    "lindo.set_c(y, 2.0)\n",
    "lindo.set_c(z, 1.0)\n",
    "\n",
    "lindo.add_constraint(\"c1\", [1.0, 1.0, 1.0], lindo_api.LINDO_CONSTRAINT_LE, 4.0)  # constraints\n",
    "lindo.add_constraint(\"c2\", [2.0, 1.0, 0.0], lindo_api.LINDO_CONSTRAINT_LE, 3.0)\n",
    "lindo.add_constraint(\"c3\", [0.0, 1.0, 2.0], lindo_api.LINDO_CONSTRAINT_LE, 3.0)\n",
    "\n",
    "# Solve the linear programming problem\n",
    "lindo.solve()\n",
    "\n",
    "# Print the optimal solution\n",
    "obj = lindo.get_obj_val()\n",
    "print(\"Optimal solution:\", obj)\n",
    "print(\"x =\", lindo.get_var_primal(x))\n",
    "print(\"y =\", lindo.get_var_primal(y))\n",
    "print(\"z =\", lindo.get_var_primal(z))\n",
    "\n",
    "# Free memory\n",
    "lindo.close()\n"
   ]
  }
 ],
 "metadata": {
  "kernelspec": {
   "display_name": "Python 3",
   "language": "python",
   "name": "python3"
  },
  "language_info": {
   "codemirror_mode": {
    "name": "ipython",
    "version": 3
   },
   "file_extension": ".py",
   "mimetype": "text/x-python",
   "name": "python",
   "nbconvert_exporter": "python",
   "pygments_lexer": "ipython3",
   "version": "3.10.4"
  },
  "orig_nbformat": 4,
  "vscode": {
   "interpreter": {
    "hash": "aee8b7b246df8f9039afb4144a1f6fd8d2ca17a180786b69acc140d282b71a49"
   }
  }
 },
 "nbformat": 4,
 "nbformat_minor": 2
}
