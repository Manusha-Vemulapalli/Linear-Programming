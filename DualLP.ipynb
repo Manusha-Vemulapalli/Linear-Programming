{
 "cells": [
  {
   "attachments": {},
   "cell_type": "markdown",
   "metadata": {},
   "source": [
    "Dual linear programming model implementation using python."
   ]
  },
  {
   "cell_type": "code",
   "execution_count": 1,
   "metadata": {},
   "outputs": [
    {
     "name": "stderr",
     "output_type": "stream",
     "text": [
      "/Library/Frameworks/Python.framework/Versions/3.10/lib/python3.10/site-packages/pulp/pulp.py:1352: UserWarning: Spaces are not permitted in the name. Converted to '_'\n",
      "  warnings.warn(\"Spaces are not permitted in the name. Converted to '_'\")\n"
     ]
    },
    {
     "ename": "NameError",
     "evalue": "name 'node_names' is not defined",
     "output_type": "error",
     "traceback": [
      "\u001b[0;31m---------------------------------------------------------------------------\u001b[0m",
      "\u001b[0;31mNameError\u001b[0m                                 Traceback (most recent call last)",
      "\u001b[1;32m/Users/manushavemulapalli/Documents/Directed Readings/DualLP.ipynb Cell 2\u001b[0m in \u001b[0;36m<cell line: 7>\u001b[0;34m()\u001b[0m\n\u001b[1;32m      <a href='vscode-notebook-cell:/Users/manushavemulapalli/Documents/Directed%20Readings/DualLP.ipynb#W2sZmlsZQ%3D%3D?line=3'>4</a>\u001b[0m prob \u001b[39m=\u001b[39m LpProblem(\u001b[39m\"\u001b[39m\u001b[39mCPM Dual Problem\u001b[39m\u001b[39m\"\u001b[39m, LpMaximize)\n\u001b[1;32m      <a href='vscode-notebook-cell:/Users/manushavemulapalli/Documents/Directed%20Readings/DualLP.ipynb#W2sZmlsZQ%3D%3D?line=5'>6</a>\u001b[0m \u001b[39m# Define the decision variables\u001b[39;00m\n\u001b[0;32m----> <a href='vscode-notebook-cell:/Users/manushavemulapalli/Documents/Directed%20Readings/DualLP.ipynb#W2sZmlsZQ%3D%3D?line=6'>7</a>\u001b[0m y \u001b[39m=\u001b[39m LpVariable\u001b[39m.\u001b[39mdicts(\u001b[39m\"\u001b[39m\u001b[39my\u001b[39m\u001b[39m\"\u001b[39m, node_names, lowBound\u001b[39m=\u001b[39m\u001b[39m0\u001b[39m, cat\u001b[39m=\u001b[39m\u001b[39m'\u001b[39m\u001b[39mContinuous\u001b[39m\u001b[39m'\u001b[39m)\n\u001b[1;32m      <a href='vscode-notebook-cell:/Users/manushavemulapalli/Documents/Directed%20Readings/DualLP.ipynb#W2sZmlsZQ%3D%3D?line=8'>9</a>\u001b[0m \u001b[39m# Define the objective function\u001b[39;00m\n\u001b[1;32m     <a href='vscode-notebook-cell:/Users/manushavemulapalli/Documents/Directed%20Readings/DualLP.ipynb#W2sZmlsZQ%3D%3D?line=9'>10</a>\u001b[0m prob \u001b[39m+\u001b[39m\u001b[39m=\u001b[39m lpSum([y[i] \u001b[39mfor\u001b[39;00m i \u001b[39min\u001b[39;00m node_names])\n",
      "\u001b[0;31mNameError\u001b[0m: name 'node_names' is not defined"
     ]
    }
   ],
   "source": [
    "from pulp import *\n",
    "\n",
    "# Define the problem\n",
    "prob = LpProblem(\"CPM Dual Problem\", LpMaximize)\n",
    "\n",
    "# Define the decision variables\n",
    "y = LpVariable.dicts(\"y\", node_names, lowBound=0, cat='Continuous')\n",
    "\n",
    "# Define the objective function\n",
    "prob += lpSum([y[i] for i in node_names])\n",
    "\n",
    "# Define the constraints\n",
    "for i in node_names:\n",
    "    for j in successors[i]:\n",
    "        prob += y[i] - y[j] <= -duration[i]\n",
    "\n",
    "# Solve the problem\n",
    "prob.solve()\n",
    "\n",
    "# Print the optimal solution\n",
    "print(\"Optimal solution:\")\n",
    "for v in prob.variables():\n",
    "    print(v.name, \"=\", v.varValue)\n",
    "\n",
    "print(\"Objective function value: \", value(prob.objective))\n"
   ]
  }
 ],
 "metadata": {
  "kernelspec": {
   "display_name": "Python 3",
   "language": "python",
   "name": "python3"
  },
  "language_info": {
   "codemirror_mode": {
    "name": "ipython",
    "version": 3
   },
   "file_extension": ".py",
   "mimetype": "text/x-python",
   "name": "python",
   "nbconvert_exporter": "python",
   "pygments_lexer": "ipython3",
   "version": "3.10.4"
  },
  "orig_nbformat": 4
 },
 "nbformat": 4,
 "nbformat_minor": 2
}
