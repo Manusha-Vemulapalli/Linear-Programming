{
 "cells": [
  {
   "attachments": {},
   "cell_type": "markdown",
   "metadata": {},
   "source": [
    "To implement the LINDO we need to use the LINDO Api.\n",
    "\n",
    "At first install the LINDO in your personal pc to let this code execute and then you will need to use the below code."
   ]
  },
  {
   "cell_type": "code",
   "execution_count": null,
   "metadata": {},
   "outputs": [],
   "source": [
    "import lindo\n",
    "\n",
    "# Create a new LINDO environment\n",
    "pEnv = lindo.LpCls()\n",
    "\n",
    "# Create a new LP model\n",
    "nErrorCode, pLP = pEnv.LPCreate('MyLP')\n",
    "\n",
    "# Add variables to the LP model\n",
    "nErrorCode = pLP.Variable('x1', lindo.ctyp_var_continuous, 0.0, None)\n",
    "nErrorCode = pLP.Variable('x2', lindo.ctyp_var_continuous, 0.0, None)\n",
    "\n",
    "# Set the objective function\n",
    "nErrorCode = pLP.Objective('(2 * x1) + x2')\n",
    "\n",
    "# Add constraints to the LP model\n",
    "nErrorCode = pLP.AddConstraint('(3 * x1) + (2 * x2) <= 120')\n",
    "nErrorCode = pLP.AddConstraint('(2 * x1) + (4 * x2) <= 100')\n",
    "\n",
    "# Solve the LP model\n",
    "nErrorCode = pLP.Solve()\n",
    "\n",
    "# Get the solution status and objective value\n",
    "nStatus, dObj = pLP.SolutionStatus(), pLP.ObjectiveValue()\n",
    "\n",
    "# Get the variable values\n",
    "dX1, dX2 = pLP.GetVariable('x1'), pLP.GetVariable('x2')\n",
    "\n",
    "# Print the results\n",
    "print('Status:', nStatus)\n",
    "print('Objective:', dObj)\n",
    "print('x1:', dX1)\n",
    "print('x2:', dX2)\n",
    "\n",
    "# Delete the LP model and LINDO environment\n",
    "nErrorCode = pLP.Delete()\n",
    "nErrorCode = pEnv.Delete()\n"
   ]
  }
 ],
 "metadata": {
  "kernelspec": {
   "display_name": "Python 3",
   "language": "python",
   "name": "python3"
  },
  "language_info": {
   "codemirror_mode": {
    "name": "ipython",
    "version": 3
   },
   "file_extension": ".py",
   "mimetype": "text/x-python",
   "name": "python",
   "nbconvert_exporter": "python",
   "pygments_lexer": "ipython3",
   "version": "3.10.4"
  },
  "orig_nbformat": 4,
  "vscode": {
   "interpreter": {
    "hash": "aee8b7b246df8f9039afb4144a1f6fd8d2ca17a180786b69acc140d282b71a49"
   }
  }
 },
 "nbformat": 4,
 "nbformat_minor": 2
}
