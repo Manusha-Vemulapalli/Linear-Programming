{
 "cells": [
  {
   "attachments": {},
   "cell_type": "markdown",
   "metadata": {},
   "source": [
    "Sensitivity Analysis implementation in linear programming zales jewellers."
   ]
  },
  {
   "attachments": {},
   "cell_type": "markdown",
   "metadata": {},
   "source": [
    "Maximize 200x1 + 180x2\n",
    "Subject to:\n",
    "    100x1 + 120x2 <= C  (Cost constraint)\n",
    "    x1 <= 100            (Demand constraint for type A)\n",
    "    x1 >= 50             (Demand constraint for type A)\n",
    "    x2 <= 80             (Demand constraint for type B)\n",
    "    x2 >= 30             (Demand constraint for type B)\n"
   ]
  },
  {
   "cell_type": "code",
   "execution_count": 3,
   "metadata": {},
   "outputs": [
    {
     "name": "stdout",
     "output_type": "stream",
     "text": [
      "Welcome to the CBC MILP Solver \n",
      "Version: 2.10.3 \n",
      "Build Date: Dec 15 2019 \n",
      "\n",
      "command line - /Library/Frameworks/Python.framework/Versions/3.10/lib/python3.10/site-packages/pulp/solverdir/cbc/osx/64/cbc /var/folders/ht/pck_svj15fzdps215jr79vbh0000gn/T/a076d66ef3d84a0ca636dfddd7345b6b-pulp.mps max timeMode elapsed branch printingOptions all solution /var/folders/ht/pck_svj15fzdps215jr79vbh0000gn/T/a076d66ef3d84a0ca636dfddd7345b6b-pulp.sol (default strategy 1)\n",
      "At line 2 NAME          MODEL\n",
      "At line 3 ROWS\n",
      "At line 10 COLUMNS\n",
      "At line 23 RHS\n",
      "At line 29 BOUNDS\n",
      "At line 32 ENDATA\n",
      "Problem MODEL has 5 rows, 2 columns and 6 elements\n",
      "Coin0008I MODEL read with 0 errors\n",
      "Option for timeMode changed from cpu to elapsed\n",
      "Continuous objective value is 34400 - 0.00 seconds\n",
      "Cgl0004I processed model has 0 rows, 0 columns (0 integer (0 of which binary)) and 0 elements\n",
      "Cbc3007W No integer variables - nothing to do\n",
      "Cuts at root node changed objective from -34400 to -1.79769e+308\n",
      "Probing was tried 0 times and created 0 cuts of which 0 were active after adding rounds of cuts (0.000 seconds)\n",
      "Gomory was tried 0 times and created 0 cuts of which 0 were active after adding rounds of cuts (0.000 seconds)\n",
      "Knapsack was tried 0 times and created 0 cuts of which 0 were active after adding rounds of cuts (0.000 seconds)\n",
      "Clique was tried 0 times and created 0 cuts of which 0 were active after adding rounds of cuts (0.000 seconds)\n",
      "MixedIntegerRounding2 was tried 0 times and created 0 cuts of which 0 were active after adding rounds of cuts (0.000 seconds)\n",
      "FlowCover was tried 0 times and created 0 cuts of which 0 were active after adding rounds of cuts (0.000 seconds)\n",
      "TwoMirCuts was tried 0 times and created 0 cuts of which 0 were active after adding rounds of cuts (0.000 seconds)\n",
      "ZeroHalf was tried 0 times and created 0 cuts of which 0 were active after adding rounds of cuts (0.000 seconds)\n",
      "\n",
      "Result - Optimal solution found\n",
      "\n",
      "Objective value:                34400.00000000\n",
      "Enumerated nodes:               0\n",
      "Total iterations:               0\n",
      "Time (CPU seconds):             0.00\n",
      "Time (Wallclock seconds):       0.02\n",
      "\n",
      "Option for printingOptions changed from normal to all\n",
      "Total time (CPU seconds):       0.00   (Wallclock seconds):       0.02\n",
      "\n",
      "Optimal Solution: x1 = 100.0, x2 = 80.0, Profit = 34400.0\n",
      "\n",
      "Sensitivity Analysis:\n",
      "_C1: Shadow Price = -0.0\n"
     ]
    },
    {
     "ename": "AttributeError",
     "evalue": "'LpVariable' object has no attribute 'obj'",
     "output_type": "error",
     "traceback": [
      "\u001b[0;31m---------------------------------------------------------------------------\u001b[0m",
      "\u001b[0;31mAttributeError\u001b[0m                            Traceback (most recent call last)",
      "\u001b[1;32m/Users/manushavemulapalli/Documents/Directed Readings/SensiAnalysisZales.ipynb Cell 2\u001b[0m in \u001b[0;36m<cell line: 28>\u001b[0;34m()\u001b[0m\n\u001b[1;32m     <a href='vscode-notebook-cell:/Users/manushavemulapalli/Documents/Directed%20Readings/SensiAnalysisZales.ipynb#W4sZmlsZQ%3D%3D?line=29'>30</a>\u001b[0m \u001b[39mprint\u001b[39m(\u001b[39mf\u001b[39m\u001b[39m\"\u001b[39m\u001b[39m{\u001b[39;00mname\u001b[39m}\u001b[39;00m\u001b[39m: Shadow Price = \u001b[39m\u001b[39m{\u001b[39;00mshadow_price\u001b[39m}\u001b[39;00m\u001b[39m\"\u001b[39m)\n\u001b[1;32m     <a href='vscode-notebook-cell:/Users/manushavemulapalli/Documents/Directed%20Readings/SensiAnalysisZales.ipynb#W4sZmlsZQ%3D%3D?line=31'>32</a>\u001b[0m \u001b[39mfor\u001b[39;00m v \u001b[39min\u001b[39;00m [x1, x2]:\n\u001b[0;32m---> <a href='vscode-notebook-cell:/Users/manushavemulapalli/Documents/Directed%20Readings/SensiAnalysisZales.ipynb#W4sZmlsZQ%3D%3D?line=32'>33</a>\u001b[0m     obj_coef \u001b[39m=\u001b[39m v\u001b[39m.\u001b[39;49mobj\n\u001b[1;32m     <a href='vscode-notebook-cell:/Users/manushavemulapalli/Documents/Directed%20Readings/SensiAnalysisZales.ipynb#W4sZmlsZQ%3D%3D?line=33'>34</a>\u001b[0m     constraint_coef \u001b[39m=\u001b[39m c[v]\n\u001b[1;32m     <a href='vscode-notebook-cell:/Users/manushavemulapalli/Documents/Directed%20Readings/SensiAnalysisZales.ipynb#W4sZmlsZQ%3D%3D?line=34'>35</a>\u001b[0m     RHS \u001b[39m=\u001b[39m c\u001b[39m.\u001b[39mconstant\n",
      "\u001b[0;31mAttributeError\u001b[0m: 'LpVariable' object has no attribute 'obj'"
     ]
    }
   ],
   "source": [
    "import pulp as lp\n",
    "\n",
    "# Define the decision variables\n",
    "x1 = lp.LpVariable(\"x1\", lowBound=0, cat='Integer')\n",
    "x2 = lp.LpVariable(\"x2\", lowBound=0, cat='Integer')\n",
    "\n",
    "# Define the problem\n",
    "problem = lp.LpProblem(\"Zales Jewelers\", lp.LpMaximize)\n",
    "\n",
    "# Define the objective function\n",
    "problem += 200*x1 + 180*x2\n",
    "\n",
    "# Define the constraints\n",
    "problem += 100*x1 + 120*x2 <= 30000  # Budget constraint\n",
    "problem += x1 >= 50  # Demand constraint for type A\n",
    "problem += x1 <= 100  # Demand constraint for type A\n",
    "problem += x2 >= 30  # Demand constraint for type B\n",
    "problem += x2 <= 80  # Demand constraint for type B\n",
    "\n",
    "# Solve the problem\n",
    "status = problem.solve()\n",
    "\n",
    "# Print the optimal solution\n",
    "print(f\"Optimal Solution: x1 = {x1.value()}, x2 = {x2.value()}, Profit = {lp.value(problem.objective)}\")\n",
    "\n",
    "# Print the sensitivity analysis results\n",
    "print(\"\\nSensitivity Analysis:\")\n",
    "for name, c in problem.constraints.items():\n",
    "    shadow_price = c.pi\n",
    "    print(f\"{name}: Shadow Price = {shadow_price}\")\n",
    "    \n",
    "    for v in [x1, x2]:\n",
    "        obj_coef = v.obj\n",
    "        constraint_coef = c[v]\n",
    "        RHS = c.constant\n",
    "        if shadow_price != 0 and constraint_coef != 0:\n",
    "            activity_range = (RHS - shadow_price)/constraint_coef\n",
    "            print(f\"{name}: {v.name} Activity Range = {activity_range}\")\n"
   ]
  }
 ],
 "metadata": {
  "kernelspec": {
   "display_name": "Python 3",
   "language": "python",
   "name": "python3"
  },
  "language_info": {
   "codemirror_mode": {
    "name": "ipython",
    "version": 3
   },
   "file_extension": ".py",
   "mimetype": "text/x-python",
   "name": "python",
   "nbconvert_exporter": "python",
   "pygments_lexer": "ipython3",
   "version": "3.10.4"
  },
  "orig_nbformat": 4
 },
 "nbformat": 4,
 "nbformat_minor": 2
}
