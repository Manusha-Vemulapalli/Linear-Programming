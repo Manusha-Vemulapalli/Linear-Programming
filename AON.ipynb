{
 "cells": [
  {
   "attachments": {},
   "cell_type": "markdown",
   "metadata": {},
   "source": [
    "Acitivity on Node Model "
   ]
  },
  {
   "cell_type": "code",
   "execution_count": 1,
   "metadata": {},
   "outputs": [
    {
     "name": "stdout",
     "output_type": "stream",
     "text": [
      "Welcome to the CBC MILP Solver \n",
      "Version: 2.10.3 \n",
      "Build Date: Dec 15 2019 \n",
      "\n",
      "command line - /Library/Frameworks/Python.framework/Versions/3.10/lib/python3.10/site-packages/pulp/solverdir/cbc/osx/64/cbc /var/folders/ht/pck_svj15fzdps215jr79vbh0000gn/T/3698ae6863984431ab6693e34778ec64-pulp.mps timeMode elapsed branch printingOptions all solution /var/folders/ht/pck_svj15fzdps215jr79vbh0000gn/T/3698ae6863984431ab6693e34778ec64-pulp.sol (default strategy 1)\n",
      "At line 2 NAME          MODEL\n",
      "At line 3 ROWS\n",
      "At line 12 COLUMNS\n",
      "At line 34 RHS\n",
      "At line 42 BOUNDS\n",
      "At line 43 ENDATA\n",
      "Problem MODEL has 7 rows, 7 columns and 14 elements\n",
      "Coin0008I MODEL read with 0 errors\n",
      "Option for timeMode changed from cpu to elapsed\n",
      "Presolve 0 (-7) rows, 0 (-7) columns and 0 (-14) elements\n",
      "Empty problem - 0 rows, 0 columns and 0 elements\n",
      "Optimal - objective value 48\n",
      "After Postsolve, objective 48, infeasibilities - dual 0 (0), primal 0 (0)\n",
      "Optimal objective 48 - 0 iterations time 0.002, Presolve 0.00\n",
      "Option for printingOptions changed from normal to all\n",
      "Total time (CPU seconds):       0.00   (Wallclock seconds):       0.01\n",
      "\n",
      "Total project duration: 74.0 days\n",
      "Activity A: start time = 0.0 days\n",
      "Activity B: start time = 3.0 days\n",
      "Activity C: start time = 3.0 days\n",
      "Activity D: start time = 7.0 days\n",
      "Activity E: start time = 5.0 days\n",
      "Activity F: start time = 12.0 days\n",
      "Activity G: start time = 18.0 days\n"
     ]
    }
   ],
   "source": [
    "from pulp import *\n",
    "\n",
    "# Define the activities and their durations\n",
    "activities = {'A': 3, 'B': 4, 'C': 2, 'D': 5, 'E': 4, 'F': 6, 'G': 2}\n",
    "\n",
    "# Define the dependencies between the activities\n",
    "dependencies = [('A', 'B'), ('A', 'C'), ('B', 'D'), ('C', 'E'), ('D', 'F'), ('E', 'F'), ('F', 'G')]\n",
    "\n",
    "# Create a LP problem instance\n",
    "prob = LpProblem(\"AON\", LpMinimize)\n",
    "\n",
    "# Define the start time variable for each activity\n",
    "start_times = LpVariable.dicts(\"Start\", activities.keys(), lowBound=0, cat='Continuous')\n",
    "\n",
    "# Define the objective function (i.e., the total project duration)\n",
    "prob += lpSum([start_times[a] + activities[a] for a in activities])\n",
    "\n",
    "# Define the constraints\n",
    "for a in activities:\n",
    "    for b in activities:\n",
    "        if (a, b) in dependencies:\n",
    "            prob += start_times[a] + activities[a] <= start_times[b]\n",
    "\n",
    "# Solve the LP problem\n",
    "prob.solve()\n",
    "\n",
    "# Print the results\n",
    "print(\"Total project duration: {} days\".format(value(prob.objective)))\n",
    "for a in activities:\n",
    "    print(\"Activity {}: start time = {} days\".format(a, value(start_times[a])))\n"
   ]
  }
 ],
 "metadata": {
  "kernelspec": {
   "display_name": "Python 3",
   "language": "python",
   "name": "python3"
  },
  "language_info": {
   "codemirror_mode": {
    "name": "ipython",
    "version": 3
   },
   "file_extension": ".py",
   "mimetype": "text/x-python",
   "name": "python",
   "nbconvert_exporter": "python",
   "pygments_lexer": "ipython3",
   "version": "3.10.4"
  },
  "orig_nbformat": 4
 },
 "nbformat": 4,
 "nbformat_minor": 2
}
