{
 "cells": [
  {
   "attachments": {},
   "cell_type": "markdown",
   "metadata": {},
   "source": [
    "Critical Path Method Linear Programming implementation in Python"
   ]
  },
  {
   "cell_type": "code",
   "execution_count": 1,
   "metadata": {},
   "outputs": [
    {
     "name": "stdout",
     "output_type": "stream",
     "text": [
      "Welcome to the CBC MILP Solver \n",
      "Version: 2.10.3 \n",
      "Build Date: Dec 15 2019 \n",
      "\n",
      "command line - /Library/Frameworks/Python.framework/Versions/3.10/lib/python3.10/site-packages/pulp/solverdir/cbc/osx/64/cbc /var/folders/ht/pck_svj15fzdps215jr79vbh0000gn/T/3bd1d988d1d14892ac3382509c628add-pulp.mps timeMode elapsed branch printingOptions all solution /var/folders/ht/pck_svj15fzdps215jr79vbh0000gn/T/3bd1d988d1d14892ac3382509c628add-pulp.sol (default strategy 1)\n",
      "At line 2 NAME          MODEL\n",
      "At line 3 ROWS\n",
      "At line 17 COLUMNS\n",
      "At line 67 RHS\n",
      "At line 80 BOUNDS\n",
      "At line 93 ENDATA\n",
      "Problem MODEL has 12 rows, 12 columns and 24 elements\n",
      "Coin0008I MODEL read with 0 errors\n",
      "Option for timeMode changed from cpu to elapsed\n",
      "Continuous objective value is 12 - 0.00 seconds\n",
      "Cgl0004I processed model has 0 rows, 0 columns (0 integer (0 of which binary)) and 0 elements\n",
      "Cbc3007W No integer variables - nothing to do\n",
      "Cuts at root node changed objective from 12 to -1.79769e+308\n",
      "Probing was tried 0 times and created 0 cuts of which 0 were active after adding rounds of cuts (0.000 seconds)\n",
      "Gomory was tried 0 times and created 0 cuts of which 0 were active after adding rounds of cuts (0.000 seconds)\n",
      "Knapsack was tried 0 times and created 0 cuts of which 0 were active after adding rounds of cuts (0.000 seconds)\n",
      "Clique was tried 0 times and created 0 cuts of which 0 were active after adding rounds of cuts (0.000 seconds)\n",
      "MixedIntegerRounding2 was tried 0 times and created 0 cuts of which 0 were active after adding rounds of cuts (0.000 seconds)\n",
      "FlowCover was tried 0 times and created 0 cuts of which 0 were active after adding rounds of cuts (0.000 seconds)\n",
      "TwoMirCuts was tried 0 times and created 0 cuts of which 0 were active after adding rounds of cuts (0.000 seconds)\n",
      "ZeroHalf was tried 0 times and created 0 cuts of which 0 were active after adding rounds of cuts (0.000 seconds)\n",
      "\n",
      "Result - Optimal solution found\n",
      "\n",
      "Objective value:                12.00000000\n",
      "Enumerated nodes:               0\n",
      "Total iterations:               0\n",
      "Time (CPU seconds):             0.00\n",
      "Time (Wallclock seconds):       0.02\n",
      "\n",
      "Option for printingOptions changed from normal to all\n",
      "Total time (CPU seconds):       0.00   (Wallclock seconds):       0.02\n",
      "\n",
      "Task\tStart Time\tEnd Time\n",
      "A\t0.0\t\t3.0\n",
      "B\t3.0\t\t5.0\n",
      "C\t3.0\t\t4.0\n",
      "D\t5.0\t\t9.0\n",
      "E\t9.0\t\t11.0\n",
      "F\t9.0\t\t12.0\n"
     ]
    }
   ],
   "source": [
    "import pulp\n",
    "\n",
    "# Define the set of tasks\n",
    "tasks = ['A', 'B', 'C', 'D', 'E', 'F']\n",
    "\n",
    "# Define the duration of each task\n",
    "duration = {'A': 3, 'B': 2, 'C': 1, 'D': 4, 'E': 2, 'F': 3}\n",
    "\n",
    "# Define the set of predecessor tasks for each task\n",
    "predecessors = {'A': [], 'B': ['A'], 'C': ['A'], 'D': ['B', 'C'], 'E': ['D'], 'F': ['D']}\n",
    "\n",
    "# Define the start time variable for each task\n",
    "start_time = pulp.LpVariable.dicts('start_time', tasks, lowBound=0, cat='Integer')\n",
    "\n",
    "# Define the end time variable for each task\n",
    "end_time = pulp.LpVariable.dicts('end_time', tasks, lowBound=0, cat='Integer')\n",
    "\n",
    "# Define the LP problem\n",
    "prob = pulp.LpProblem('CPM', pulp.LpMinimize)\n",
    "\n",
    "# Define the objective function\n",
    "prob += end_time['F']\n",
    "\n",
    "# Define the constraints\n",
    "for task in tasks:\n",
    "    for predecessor in predecessors[task]:\n",
    "        prob += end_time[predecessor] <= start_time[task]\n",
    "    prob += end_time[task] == start_time[task] + duration[task]\n",
    "\n",
    "# Solve the LP problem\n",
    "prob.solve()\n",
    "\n",
    "# Print the results\n",
    "print('Task\\tStart Time\\tEnd Time')\n",
    "for task in tasks:\n",
    "    print(f'{task}\\t{pulp.value(start_time[task])}\\t\\t{pulp.value(end_time[task])}')\n"
   ]
  }
 ],
 "metadata": {
  "kernelspec": {
   "display_name": "Python 3",
   "language": "python",
   "name": "python3"
  },
  "language_info": {
   "codemirror_mode": {
    "name": "ipython",
    "version": 3
   },
   "file_extension": ".py",
   "mimetype": "text/x-python",
   "name": "python",
   "nbconvert_exporter": "python",
   "pygments_lexer": "ipython3",
   "version": "3.10.4"
  },
  "orig_nbformat": 4
 },
 "nbformat": 4,
 "nbformat_minor": 2
}
