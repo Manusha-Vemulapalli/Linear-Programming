{
 "cells": [
  {
   "attachments": {},
   "cell_type": "markdown",
   "metadata": {},
   "source": [
    "Project Evaluation and Review Technique linear programming implementation in python."
   ]
  },
  {
   "attachments": {},
   "cell_type": "markdown",
   "metadata": {},
   "source": [
    "Let's consider a random project with three taska and their durations. We also have the Resource 1 and Resource 2. "
   ]
  },
  {
   "attachments": {},
   "cell_type": "markdown",
   "metadata": {},
   "source": [
    "Let's consider that the project duration while respecting the resource constraints. To do this, we can define the following decision variables. \n",
    "let x1 be the start time of the task A\n",
    "x2 be the start time of the task B\n",
    "x3 be the start time of the task C"
   ]
  },
  {
   "cell_type": "code",
   "execution_count": 1,
   "metadata": {},
   "outputs": [
    {
     "name": "stdout",
     "output_type": "stream",
     "text": [
      "Welcome to the CBC MILP Solver \n",
      "Version: 2.10.3 \n",
      "Build Date: Dec 15 2019 \n",
      "\n",
      "command line - /Library/Frameworks/Python.framework/Versions/3.10/lib/python3.10/site-packages/pulp/solverdir/cbc/osx/64/cbc /var/folders/ht/pck_svj15fzdps215jr79vbh0000gn/T/e44c8317cbfe44a087ed223bbcd79001-pulp.mps timeMode elapsed branch printingOptions all solution /var/folders/ht/pck_svj15fzdps215jr79vbh0000gn/T/e44c8317cbfe44a087ed223bbcd79001-pulp.sol (default strategy 1)\n",
      "At line 2 NAME          MODEL\n",
      "At line 3 ROWS\n",
      "At line 9 COLUMNS\n",
      "At line 23 RHS\n",
      "At line 28 BOUNDS\n",
      "At line 29 ENDATA\n",
      "Problem MODEL has 4 rows, 3 columns and 10 elements\n",
      "Coin0008I MODEL read with 0 errors\n",
      "Option for timeMode changed from cpu to elapsed\n",
      "Presolve determined that the problem was infeasible with tolerance of 1e-08\n",
      "Analysis indicates model infeasible or unbounded\n",
      "0  Obj 0 Primal inf 12 (2)\n",
      "2  Obj 17 Primal inf 12.428571 (2)\n",
      "Primal infeasible - objective value 17\n",
      "PrimalInfeasible objective 17 - 2 iterations time 0.002\n",
      "\n",
      "Result - Linear relaxation infeasible\n",
      "\n",
      "Enumerated nodes:           0\n",
      "Total iterations:           0\n",
      "Time (CPU seconds):         0.00\n",
      "Time (Wallclock Seconds):   0.01\n",
      "\n",
      "Option for printingOptions changed from normal to all\n",
      "Total time (CPU seconds):       0.00   (Wallclock seconds):       0.02\n",
      "\n",
      "Project duration: 27.0\n",
      "Start time of task A: 0.0\n",
      "Start time of task B: 5.0\n",
      "Start time of task C: 12.0\n"
     ]
    },
    {
     "name": "stderr",
     "output_type": "stream",
     "text": [
      "/Library/Frameworks/Python.framework/Versions/3.10/lib/python3.10/site-packages/pulp/pulp.py:1352: UserWarning: Spaces are not permitted in the name. Converted to '_'\n",
      "  warnings.warn(\"Spaces are not permitted in the name. Converted to '_'\")\n"
     ]
    }
   ],
   "source": [
    "from pulp import *\n",
    "\n",
    "# Define the problem\n",
    "prob = LpProblem(\"Project Management\", LpMinimize)\n",
    "\n",
    "# Define the decision variables\n",
    "x1 = LpVariable(\"x1\", lowBound=0, cat='Continuous')\n",
    "x2 = LpVariable(\"x2\", lowBound=0, cat='Continuous')\n",
    "x3 = LpVariable(\"x3\", lowBound=0, cat='Continuous')\n",
    "\n",
    "# Define the objective function\n",
    "prob += x1 + 7 + x2 + 3 + x3\n",
    "\n",
    "# Define the constraints\n",
    "prob += x1 + 5 <= x2\n",
    "prob += x2 + 7 <= x3\n",
    "prob += 5*x1 + 7*x2 + 3*x3 <= 25\n",
    "prob += 5*x1 + 7*x2 + 3*x3 <= 30\n",
    "\n",
    "# Solve the problem\n",
    "prob.solve()\n",
    "\n",
    "# Print the solution\n",
    "print(\"Project duration:\", value(prob.objective))\n",
    "print(\"Start time of task A:\", value(x1))\n",
    "print(\"Start time of task B:\", value(x2))\n",
    "print(\"Start time of task C:\", value(x3))\n"
   ]
  }
 ],
 "metadata": {
  "kernelspec": {
   "display_name": "Python 3",
   "language": "python",
   "name": "python3"
  },
  "language_info": {
   "codemirror_mode": {
    "name": "ipython",
    "version": 3
   },
   "file_extension": ".py",
   "mimetype": "text/x-python",
   "name": "python",
   "nbconvert_exporter": "python",
   "pygments_lexer": "ipython3",
   "version": "3.10.4"
  },
  "orig_nbformat": 4
 },
 "nbformat": 4,
 "nbformat_minor": 2
}
