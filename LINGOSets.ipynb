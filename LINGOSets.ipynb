{
 "cells": [
  {
   "attachments": {},
   "cell_type": "markdown",
   "metadata": {},
   "source": [
    "Implementation of LINGO sets in python.\n"
   ]
  },
  {
   "cell_type": "code",
   "execution_count": 1,
   "metadata": {},
   "outputs": [
    {
     "name": "stdout",
     "output_type": "stream",
     "text": [
      "Collecting pyomo\n",
      "  Downloading Pyomo-6.5.0.tar.gz (2.4 MB)\n",
      "\u001b[2K     \u001b[90m━━━━━━━━━━━━━━━━━━━━━━━━━━━━━━━━━━━━━━━━\u001b[0m \u001b[32m2.4/2.4 MB\u001b[0m \u001b[31m1.5 MB/s\u001b[0m eta \u001b[36m0:00:00\u001b[0m00:01\u001b[0m00:01\u001b[0m0m\n",
      "\u001b[?25h  Preparing metadata (setup.py) ... \u001b[?25ldone\n",
      "\u001b[?25hCollecting ply\n",
      "  Downloading ply-3.11-py2.py3-none-any.whl (49 kB)\n",
      "\u001b[2K     \u001b[90m━━━━━━━━━━━━━━━━━━━━━━━━━━━━━━━━━━━━━━━━\u001b[0m \u001b[32m49.6/49.6 kB\u001b[0m \u001b[31m2.2 MB/s\u001b[0m eta \u001b[36m0:00:00\u001b[0m\n",
      "\u001b[?25hBuilding wheels for collected packages: pyomo\n",
      "  Building wheel for pyomo (setup.py) ... \u001b[?25ldone\n",
      "\u001b[?25h  Created wheel for pyomo: filename=Pyomo-6.5.0-py2.py3-none-any.whl size=3066227 sha256=5234f831866c669587ea52248c576fe2f2374d379a6c77cb81f08b65f2a8d644\n",
      "  Stored in directory: /Users/manushavemulapalli/Library/Caches/pip/wheels/e4/71/33/02568e13bf104f7abb60ee9c5410483d0e7324b3817d609a71\n",
      "Successfully built pyomo\n",
      "Installing collected packages: ply, pyomo\n",
      "Successfully installed ply-3.11 pyomo-6.5.0\n",
      "\n",
      "\u001b[1m[\u001b[0m\u001b[34;49mnotice\u001b[0m\u001b[1;39;49m]\u001b[0m\u001b[39;49m A new release of pip available: \u001b[0m\u001b[31;49m22.3.1\u001b[0m\u001b[39;49m -> \u001b[0m\u001b[32;49m23.0.1\u001b[0m\n",
      "\u001b[1m[\u001b[0m\u001b[34;49mnotice\u001b[0m\u001b[1;39;49m]\u001b[0m\u001b[39;49m To update, run: \u001b[0m\u001b[32;49mpip install --upgrade pip\u001b[0m\n",
      "Note: you may need to restart the kernel to use updated packages.\n"
     ]
    }
   ],
   "source": [
    "pip install pyomo"
   ]
  },
  {
   "cell_type": "code",
   "execution_count": 2,
   "metadata": {},
   "outputs": [
    {
     "name": "stdout",
     "output_type": "stream",
     "text": [
      "WARNING: Failed to create solver with name 'lingo': Failed to set executable\n",
      "    for solver asl. File with name=lingo either does not exist or it is not\n",
      "    executable. To skip this validation, call set_executable with\n",
      "    validate=False.\n",
      "Traceback (most recent call last):\n",
      "  File \"/Library/Frameworks/Python.framework/Versions/3.10/lib/python3.10/site-packages/pyomo/opt/base/solvers.py\", line 166, in __call__\n",
      "    opt = self._cls[_implicit_solvers[mode]](**kwds)\n",
      "  File \"/Library/Frameworks/Python.framework/Versions/3.10/lib/python3.10/site-packages/pyomo/solvers/plugins/solvers/ASL.py\", line 45, in __init__\n",
      "    SystemCallSolver.__init__(self, **kwds)\n",
      "  File \"/Library/Frameworks/Python.framework/Versions/3.10/lib/python3.10/site-packages/pyomo/opt/solver/shellcmd.py\", line 66, in __init__\n",
      "    self.set_executable(name=executable, validate=validate)\n",
      "  File \"/Library/Frameworks/Python.framework/Versions/3.10/lib/python3.10/site-packages/pyomo/opt/solver/shellcmd.py\", line 114, in set_executable\n",
      "    raise ValueError(\n",
      "ValueError: Failed to set executable for solver asl. File with name=lingo either does not exist or it is not executable. To skip this validation, call set_executable with validate=False.\n"
     ]
    },
    {
     "ename": "RuntimeError",
     "evalue": "Attempting to use an unavailable solver.\n\nThe SolverFactory was unable to create the solver \"lingo\"\nand returned an UnknownSolver object.  This error is raised at the point\nwhere the UnknownSolver object was used as if it were valid (by calling\nmethod \"solve\").\n\nThe original solver was created with the following parameters:\n\texecutable: lingo\n\ttype: lingo\n\t_args: ()\n\toptions: {}",
     "output_type": "error",
     "traceback": [
      "\u001b[0;31m---------------------------------------------------------------------------\u001b[0m",
      "\u001b[0;31mRuntimeError\u001b[0m                              Traceback (most recent call last)",
      "\u001b[1;32m/Users/manushavemulapalli/Documents/Directed Readings/LINGOSets.ipynb Cell 3\u001b[0m in \u001b[0;36m<cell line: 19>\u001b[0;34m()\u001b[0m\n\u001b[1;32m     <a href='vscode-notebook-cell:/Users/manushavemulapalli/Documents/Directed%20Readings/LINGOSets.ipynb#W2sZmlsZQ%3D%3D?line=16'>17</a>\u001b[0m \u001b[39m# Create a solver instance and solve the problem\u001b[39;00m\n\u001b[1;32m     <a href='vscode-notebook-cell:/Users/manushavemulapalli/Documents/Directed%20Readings/LINGOSets.ipynb#W2sZmlsZQ%3D%3D?line=17'>18</a>\u001b[0m solver \u001b[39m=\u001b[39m SolverFactory(\u001b[39m'\u001b[39m\u001b[39mlingo\u001b[39m\u001b[39m'\u001b[39m)\n\u001b[0;32m---> <a href='vscode-notebook-cell:/Users/manushavemulapalli/Documents/Directed%20Readings/LINGOSets.ipynb#W2sZmlsZQ%3D%3D?line=18'>19</a>\u001b[0m solver\u001b[39m.\u001b[39;49msolve(model)\n\u001b[1;32m     <a href='vscode-notebook-cell:/Users/manushavemulapalli/Documents/Directed%20Readings/LINGOSets.ipynb#W2sZmlsZQ%3D%3D?line=20'>21</a>\u001b[0m \u001b[39m# Print the results\u001b[39;00m\n\u001b[1;32m     <a href='vscode-notebook-cell:/Users/manushavemulapalli/Documents/Directed%20Readings/LINGOSets.ipynb#W2sZmlsZQ%3D%3D?line=21'>22</a>\u001b[0m \u001b[39mprint\u001b[39m(\u001b[39mf\u001b[39m\u001b[39m\"\u001b[39m\u001b[39mx = \u001b[39m\u001b[39m{\u001b[39;00mmodel\u001b[39m.\u001b[39mx\u001b[39m.\u001b[39mvalue\u001b[39m}\u001b[39;00m\u001b[39m\"\u001b[39m)\n",
      "File \u001b[0;32m/Library/Frameworks/Python.framework/Versions/3.10/lib/python3.10/site-packages/pyomo/opt/base/solvers.py:106\u001b[0m, in \u001b[0;36mUnknownSolver.solve\u001b[0;34m(self, *args, **kwds)\u001b[0m\n\u001b[1;32m    104\u001b[0m \u001b[39mdef\u001b[39;00m \u001b[39msolve\u001b[39m(\u001b[39mself\u001b[39m, \u001b[39m*\u001b[39margs, \u001b[39m*\u001b[39m\u001b[39m*\u001b[39mkwds):\n\u001b[1;32m    105\u001b[0m     \u001b[39m\"\"\"Perform optimization and return an SolverResults object.\"\"\"\u001b[39;00m\n\u001b[0;32m--> 106\u001b[0m     \u001b[39mself\u001b[39;49m\u001b[39m.\u001b[39;49m_solver_error(\u001b[39m'\u001b[39;49m\u001b[39msolve\u001b[39;49m\u001b[39m'\u001b[39;49m)\n",
      "File \u001b[0;32m/Library/Frameworks/Python.framework/Versions/3.10/lib/python3.10/site-packages/pyomo/opt/base/solvers.py:123\u001b[0m, in \u001b[0;36mUnknownSolver._solver_error\u001b[0;34m(self, method_name)\u001b[0m\n\u001b[1;32m    122\u001b[0m     \u001b[39mdef\u001b[39;00m \u001b[39m_solver_error\u001b[39m(\u001b[39mself\u001b[39m, method_name):\n\u001b[0;32m--> 123\u001b[0m         \u001b[39mraise\u001b[39;00m \u001b[39mRuntimeError\u001b[39;00m(\u001b[39m\"\"\"\u001b[39m\u001b[39mAttempting to use an unavailable solver.\u001b[39m\n\u001b[1;32m    124\u001b[0m \n\u001b[1;32m    125\u001b[0m \u001b[39mThe SolverFactory was unable to create the solver \u001b[39m\u001b[39m\"\u001b[39m\u001b[39m%s\u001b[39;00m\u001b[39m\"\u001b[39m\n\u001b[1;32m    126\u001b[0m \u001b[39mand returned an UnknownSolver object.  This error is raised at the point\u001b[39m\n\u001b[1;32m    127\u001b[0m \u001b[39mwhere the UnknownSolver object was used as if it were valid (by calling\u001b[39m\n\u001b[1;32m    128\u001b[0m \u001b[39mmethod \u001b[39m\u001b[39m\"\u001b[39m\u001b[39m%s\u001b[39;00m\u001b[39m\"\u001b[39m\u001b[39m).\u001b[39m\n\u001b[1;32m    129\u001b[0m \n\u001b[1;32m    130\u001b[0m \u001b[39mThe original solver was created with the following parameters:\u001b[39m\n\u001b[1;32m    131\u001b[0m \u001b[39m\\t\u001b[39;00m\u001b[39m\"\"\"\u001b[39m \u001b[39m%\u001b[39m ( \u001b[39mself\u001b[39m\u001b[39m.\u001b[39mtype, method_name )\n\u001b[1;32m    132\u001b[0m \u001b[39m+\u001b[39m \u001b[39m\"\u001b[39m\u001b[39m\\n\u001b[39;00m\u001b[39m\\t\u001b[39;00m\u001b[39m\"\u001b[39m\u001b[39m.\u001b[39mjoin(\u001b[39m\"\u001b[39m\u001b[39m%s\u001b[39;00m\u001b[39m: \u001b[39m\u001b[39m%s\u001b[39;00m\u001b[39m\"\u001b[39m \u001b[39m%\u001b[39m i \u001b[39mfor\u001b[39;00m i \u001b[39min\u001b[39;00m \u001b[39msorted\u001b[39m(\u001b[39mself\u001b[39m\u001b[39m.\u001b[39m_kwds\u001b[39m.\u001b[39mitems()))\n\u001b[1;32m    133\u001b[0m \u001b[39m+\u001b[39m \u001b[39m\"\u001b[39m\u001b[39m\\n\u001b[39;00m\u001b[39m\\t\u001b[39;00m\u001b[39m_args: \u001b[39m\u001b[39m%s\u001b[39;00m\u001b[39m\"\u001b[39m \u001b[39m%\u001b[39m ( \u001b[39mself\u001b[39m\u001b[39m.\u001b[39m_args, )\n\u001b[1;32m    134\u001b[0m \u001b[39m+\u001b[39m \u001b[39m\"\u001b[39m\u001b[39m\\n\u001b[39;00m\u001b[39m\\t\u001b[39;00m\u001b[39moptions: \u001b[39m\u001b[39m%s\u001b[39;00m\u001b[39m\"\u001b[39m \u001b[39m%\u001b[39m ( \u001b[39mself\u001b[39m\u001b[39m.\u001b[39moptions, ) )\n",
      "\u001b[0;31mRuntimeError\u001b[0m: Attempting to use an unavailable solver.\n\nThe SolverFactory was unable to create the solver \"lingo\"\nand returned an UnknownSolver object.  This error is raised at the point\nwhere the UnknownSolver object was used as if it were valid (by calling\nmethod \"solve\").\n\nThe original solver was created with the following parameters:\n\texecutable: lingo\n\ttype: lingo\n\t_args: ()\n\toptions: {}"
     ]
    }
   ],
   "source": [
    "from pyomo.environ import *\n",
    "\n",
    "# Create a concrete Pyomo model\n",
    "model = ConcreteModel()\n",
    "\n",
    "# Define the decision variables\n",
    "model.x = Var(within=NonNegativeReals)\n",
    "model.y = Var(within=NonNegativeReals)\n",
    "\n",
    "# Define the objective function\n",
    "model.obj = Objective(expr=2*model.x + 3*model.y, sense=maximize)\n",
    "\n",
    "# Define the constraints\n",
    "model.con1 = Constraint(expr=4*model.x + 3*model.y <= 240)\n",
    "model.con2 = Constraint(expr=3*model.x + 5*model.y <= 270)\n",
    "\n",
    "# Create a solver instance and solve the problem\n",
    "solver = SolverFactory('lingo')\n",
    "solver.solve(model)\n",
    "\n",
    "# Print the results\n",
    "print(f\"x = {model.x.value}\")\n",
    "print(f\"y = {model.y.value}\")\n",
    "print(f\"objective = {model.obj.value}\")\n"
   ]
  }
 ],
 "metadata": {
  "kernelspec": {
   "display_name": "Python 3",
   "language": "python",
   "name": "python3"
  },
  "language_info": {
   "codemirror_mode": {
    "name": "ipython",
    "version": 3
   },
   "file_extension": ".py",
   "mimetype": "text/x-python",
   "name": "python",
   "nbconvert_exporter": "python",
   "pygments_lexer": "ipython3",
   "version": "3.10.4"
  },
  "orig_nbformat": 4,
  "vscode": {
   "interpreter": {
    "hash": "aee8b7b246df8f9039afb4144a1f6fd8d2ca17a180786b69acc140d282b71a49"
   }
  }
 },
 "nbformat": 4,
 "nbformat_minor": 2
}
